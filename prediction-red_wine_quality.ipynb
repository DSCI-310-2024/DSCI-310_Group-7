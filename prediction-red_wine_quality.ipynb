{
 "cells": [
  {
   "cell_type": "markdown",
   "id": "68dd51d9-0a5a-4e48-aa2c-d458de3ac3bb",
   "metadata": {},
   "source": [
    "# Predicting Wine Quality Using Multiple Linear Regression\n",
    "Group 7: Rui Xiang Yu, Rico Chan, & Kevin Yu  \n",
    "Course: DSCI 310,2024 Winter Term 2"
   ]
  },
  {
   "cell_type": "markdown",
   "id": "08480982-3c5a-4b9a-af42-4763d8bdd324",
   "metadata": {},
   "source": [
    "## 1. Summary"
   ]
  },
  {
   "cell_type": "markdown",
   "id": "1d38ead6-eead-42e8-8479-be82f8346f9c",
   "metadata": {},
   "source": [
    "## 2. Introduction\n",
    "[Wine is entrenched in many cultures and remains a strong industry worldwide.](https://www.toptal.com/finance/market-sizing/wine-industry) [Technological innovations have supported the growth of the wine industry, especially in the realm of certification and quality assessment.](http://dx.doi.org/10.1016/j.dss.2009.05.016) [One prominent innovation is the use of laboratory testing to relate physicochemical properties of wine to human sensory perceptions.](https://ieeexplore.ieee.org/document/10287348) Examples of physicochemical indicators include pH and and residual sugar. [Using data to model complex wine perceptions is a daunting task, but it can benefit wine production by flagging the most important properties to consider and informing price setting.](http://dx.doi.org/10.1016/j.dss.2009.05.016)\n",
    "\n",
    "Thus, our key question is: **Can we use multiple linear regression and various physicochemical indicators to predict the quality of red wine?**\n",
    "\n",
    "To answer whether a full regression model is viable, we use a [dataset on red wine quality from the UCI Machine Learning Repository](https://doi.org/10.24432/C56S3T). The dataset comprises of 12 variables (11 physicochemical indicators and 1 quality indicator) and contains 1599 instances of red vinho verde, a popular wine from Portugal. Each instance of wine was assessed by at least three [sensory assessors](https://www.sensorysociety.org/knowledge/sspwiki/Pages/assessor.aspx) and scored on a ten point scale that ranges from \"very bad\" to \"excellent\"; the wine quality for each instance is determined by the median of these scores. The data was collected by the CVRVV, an inter-professional organisation dedicated to the promotion of vinho verde, from  May 2004 to February 2007. \n",
    "\n",
    "*need to format citations*"
   ]
  },
  {
   "cell_type": "markdown",
   "id": "345dfe11-bdd8-47e8-ba27-2f53c959cb6d",
   "metadata": {},
   "source": [
    "## 3. Methods"
   ]
  },
  {
   "cell_type": "markdown",
   "id": "33f33812-0a9f-400e-82df-6fb87a34a4a3",
   "metadata": {},
   "source": [
    "### 3.1. Loading Data\n",
    "From UCI Machine Learning Repository: <https://doi.org/10.24432/C56S3T>"
   ]
  },
  {
   "cell_type": "code",
   "execution_count": 2,
   "id": "7f9548fd-7048-4191-94b8-a625cf83eace",
   "metadata": {},
   "outputs": [
    {
     "name": "stderr",
     "output_type": "stream",
     "text": [
      "── \u001b[1mAttaching core tidyverse packages\u001b[22m ──────────────────────────────────────────────────────────────── tidyverse 2.0.0 ──\n",
      "\u001b[32m✔\u001b[39m \u001b[34mdplyr    \u001b[39m 1.1.4     \u001b[32m✔\u001b[39m \u001b[34mreadr    \u001b[39m 2.1.5\n",
      "\u001b[32m✔\u001b[39m \u001b[34mforcats  \u001b[39m 1.0.0     \u001b[32m✔\u001b[39m \u001b[34mstringr  \u001b[39m 1.5.1\n",
      "\u001b[32m✔\u001b[39m \u001b[34mggplot2  \u001b[39m 3.4.4     \u001b[32m✔\u001b[39m \u001b[34mtibble   \u001b[39m 3.2.1\n",
      "\u001b[32m✔\u001b[39m \u001b[34mlubridate\u001b[39m 1.9.3     \u001b[32m✔\u001b[39m \u001b[34mtidyr    \u001b[39m 1.3.0\n",
      "\u001b[32m✔\u001b[39m \u001b[34mpurrr    \u001b[39m 1.0.2     \n",
      "── \u001b[1mConflicts\u001b[22m ────────────────────────────────────────────────────────────────────────────────── tidyverse_conflicts() ──\n",
      "\u001b[31m✖\u001b[39m \u001b[34mdplyr\u001b[39m::\u001b[32mfilter()\u001b[39m masks \u001b[34mstats\u001b[39m::filter()\n",
      "\u001b[31m✖\u001b[39m \u001b[34mdplyr\u001b[39m::\u001b[32mlag()\u001b[39m    masks \u001b[34mstats\u001b[39m::lag()\n",
      "\u001b[36mℹ\u001b[39m Use the conflicted package (\u001b[3m\u001b[34m<http://conflicted.r-lib.org/>\u001b[39m\u001b[23m) to force all conflicts to become errors\n",
      "── \u001b[1mAttaching packages\u001b[22m ────────────────────────────────────────────────────────────────────────────── tidymodels 1.1.1 ──\n",
      "\n",
      "\u001b[32m✔\u001b[39m \u001b[34mbroom       \u001b[39m 1.0.5      \u001b[32m✔\u001b[39m \u001b[34mrsample     \u001b[39m 1.2.0 \n",
      "\u001b[32m✔\u001b[39m \u001b[34mdials       \u001b[39m 1.2.1      \u001b[32m✔\u001b[39m \u001b[34mtune        \u001b[39m 1.1.2 \n",
      "\u001b[32m✔\u001b[39m \u001b[34minfer       \u001b[39m 1.0.6      \u001b[32m✔\u001b[39m \u001b[34mworkflows   \u001b[39m 1.1.4 \n",
      "\u001b[32m✔\u001b[39m \u001b[34mmodeldata   \u001b[39m 1.3.0      \u001b[32m✔\u001b[39m \u001b[34mworkflowsets\u001b[39m 1.0.1 \n",
      "\u001b[32m✔\u001b[39m \u001b[34mparsnip     \u001b[39m 1.2.0      \u001b[32m✔\u001b[39m \u001b[34myardstick   \u001b[39m 1.3.0 \n",
      "\u001b[32m✔\u001b[39m \u001b[34mrecipes     \u001b[39m 1.0.10     \n",
      "\n",
      "── \u001b[1mConflicts\u001b[22m ───────────────────────────────────────────────────────────────────────────────── tidymodels_conflicts() ──\n",
      "\u001b[31m✖\u001b[39m \u001b[34mscales\u001b[39m::\u001b[32mdiscard()\u001b[39m masks \u001b[34mpurrr\u001b[39m::discard()\n",
      "\u001b[31m✖\u001b[39m \u001b[34mdplyr\u001b[39m::\u001b[32mfilter()\u001b[39m   masks \u001b[34mstats\u001b[39m::filter()\n",
      "\u001b[31m✖\u001b[39m \u001b[34mrecipes\u001b[39m::\u001b[32mfixed()\u001b[39m  masks \u001b[34mstringr\u001b[39m::fixed()\n",
      "\u001b[31m✖\u001b[39m \u001b[34mdplyr\u001b[39m::\u001b[32mlag()\u001b[39m      masks \u001b[34mstats\u001b[39m::lag()\n",
      "\u001b[31m✖\u001b[39m \u001b[34myardstick\u001b[39m::\u001b[32mspec()\u001b[39m masks \u001b[34mreadr\u001b[39m::spec()\n",
      "\u001b[31m✖\u001b[39m \u001b[34mrecipes\u001b[39m::\u001b[32mstep()\u001b[39m   masks \u001b[34mstats\u001b[39m::step()\n",
      "\u001b[34m•\u001b[39m Search for functions across packages at \u001b[32mhttps://www.tidymodels.org/find/\u001b[39m\n",
      "\n"
     ]
    }
   ],
   "source": [
    "# Import packages\n",
    "library(tidyverse)\n",
    "library(tidymodels)"
   ]
  },
  {
   "cell_type": "code",
   "execution_count": 15,
   "id": "018caf86-a987-49ef-a3d7-6a119fb8c729",
   "metadata": {},
   "outputs": [
    {
     "name": "stderr",
     "output_type": "stream",
     "text": [
      "\u001b[1mRows: \u001b[22m\u001b[34m1599\u001b[39m \u001b[1mColumns: \u001b[22m\u001b[34m12\u001b[39m\n",
      "\u001b[36m──\u001b[39m \u001b[1mColumn specification\u001b[22m \u001b[36m────────────────────────────────────────────────────────────────────────────────────────────────\u001b[39m\n",
      "\u001b[1mDelimiter:\u001b[22m \";\"\n",
      "\u001b[32mdbl\u001b[39m (12): fixed acidity, volatile acidity, citric acid, residual sugar, chlo...\n",
      "\n",
      "\u001b[36mℹ\u001b[39m Use `spec()` to retrieve the full column specification for this data.\n",
      "\u001b[36mℹ\u001b[39m Specify the column types or set `show_col_types = FALSE` to quiet this message.\n"
     ]
    },
    {
     "data": {
      "text/html": [
       "<table class=\"dataframe\">\n",
       "<caption>A tibble: 6 × 12</caption>\n",
       "<thead>\n",
       "\t<tr><th scope=col>fixed_acidity</th><th scope=col>volatile_acidity</th><th scope=col>citric_acid</th><th scope=col>residual_sugar</th><th scope=col>chlorides</th><th scope=col>free_sulfur_dioxide</th><th scope=col>total_sulfur_dioxide</th><th scope=col>density</th><th scope=col>pH</th><th scope=col>sulphates</th><th scope=col>alcohol</th><th scope=col>quality</th></tr>\n",
       "\t<tr><th scope=col>&lt;dbl&gt;</th><th scope=col>&lt;dbl&gt;</th><th scope=col>&lt;dbl&gt;</th><th scope=col>&lt;dbl&gt;</th><th scope=col>&lt;dbl&gt;</th><th scope=col>&lt;dbl&gt;</th><th scope=col>&lt;dbl&gt;</th><th scope=col>&lt;dbl&gt;</th><th scope=col>&lt;dbl&gt;</th><th scope=col>&lt;dbl&gt;</th><th scope=col>&lt;dbl&gt;</th><th scope=col>&lt;dbl&gt;</th></tr>\n",
       "</thead>\n",
       "<tbody>\n",
       "\t<tr><td> 7.4</td><td>0.70</td><td>0.00</td><td>1.9</td><td>0.076</td><td>11</td><td>34</td><td>0.9978</td><td>3.51</td><td>0.56</td><td>9.4</td><td>5</td></tr>\n",
       "\t<tr><td> 7.8</td><td>0.88</td><td>0.00</td><td>2.6</td><td>0.098</td><td>25</td><td>67</td><td>0.9968</td><td>3.20</td><td>0.68</td><td>9.8</td><td>5</td></tr>\n",
       "\t<tr><td> 7.8</td><td>0.76</td><td>0.04</td><td>2.3</td><td>0.092</td><td>15</td><td>54</td><td>0.9970</td><td>3.26</td><td>0.65</td><td>9.8</td><td>5</td></tr>\n",
       "\t<tr><td>11.2</td><td>0.28</td><td>0.56</td><td>1.9</td><td>0.075</td><td>17</td><td>60</td><td>0.9980</td><td>3.16</td><td>0.58</td><td>9.8</td><td>6</td></tr>\n",
       "\t<tr><td> 7.4</td><td>0.70</td><td>0.00</td><td>1.9</td><td>0.076</td><td>11</td><td>34</td><td>0.9978</td><td>3.51</td><td>0.56</td><td>9.4</td><td>5</td></tr>\n",
       "\t<tr><td> 7.4</td><td>0.66</td><td>0.00</td><td>1.8</td><td>0.075</td><td>13</td><td>40</td><td>0.9978</td><td>3.51</td><td>0.56</td><td>9.4</td><td>5</td></tr>\n",
       "</tbody>\n",
       "</table>\n"
      ],
      "text/latex": [
       "A tibble: 6 × 12\n",
       "\\begin{tabular}{llllllllllll}\n",
       " fixed\\_acidity & volatile\\_acidity & citric\\_acid & residual\\_sugar & chlorides & free\\_sulfur\\_dioxide & total\\_sulfur\\_dioxide & density & pH & sulphates & alcohol & quality\\\\\n",
       " <dbl> & <dbl> & <dbl> & <dbl> & <dbl> & <dbl> & <dbl> & <dbl> & <dbl> & <dbl> & <dbl> & <dbl>\\\\\n",
       "\\hline\n",
       "\t  7.4 & 0.70 & 0.00 & 1.9 & 0.076 & 11 & 34 & 0.9978 & 3.51 & 0.56 & 9.4 & 5\\\\\n",
       "\t  7.8 & 0.88 & 0.00 & 2.6 & 0.098 & 25 & 67 & 0.9968 & 3.20 & 0.68 & 9.8 & 5\\\\\n",
       "\t  7.8 & 0.76 & 0.04 & 2.3 & 0.092 & 15 & 54 & 0.9970 & 3.26 & 0.65 & 9.8 & 5\\\\\n",
       "\t 11.2 & 0.28 & 0.56 & 1.9 & 0.075 & 17 & 60 & 0.9980 & 3.16 & 0.58 & 9.8 & 6\\\\\n",
       "\t  7.4 & 0.70 & 0.00 & 1.9 & 0.076 & 11 & 34 & 0.9978 & 3.51 & 0.56 & 9.4 & 5\\\\\n",
       "\t  7.4 & 0.66 & 0.00 & 1.8 & 0.075 & 13 & 40 & 0.9978 & 3.51 & 0.56 & 9.4 & 5\\\\\n",
       "\\end{tabular}\n"
      ],
      "text/markdown": [
       "\n",
       "A tibble: 6 × 12\n",
       "\n",
       "| fixed_acidity &lt;dbl&gt; | volatile_acidity &lt;dbl&gt; | citric_acid &lt;dbl&gt; | residual_sugar &lt;dbl&gt; | chlorides &lt;dbl&gt; | free_sulfur_dioxide &lt;dbl&gt; | total_sulfur_dioxide &lt;dbl&gt; | density &lt;dbl&gt; | pH &lt;dbl&gt; | sulphates &lt;dbl&gt; | alcohol &lt;dbl&gt; | quality &lt;dbl&gt; |\n",
       "|---|---|---|---|---|---|---|---|---|---|---|---|\n",
       "|  7.4 | 0.70 | 0.00 | 1.9 | 0.076 | 11 | 34 | 0.9978 | 3.51 | 0.56 | 9.4 | 5 |\n",
       "|  7.8 | 0.88 | 0.00 | 2.6 | 0.098 | 25 | 67 | 0.9968 | 3.20 | 0.68 | 9.8 | 5 |\n",
       "|  7.8 | 0.76 | 0.04 | 2.3 | 0.092 | 15 | 54 | 0.9970 | 3.26 | 0.65 | 9.8 | 5 |\n",
       "| 11.2 | 0.28 | 0.56 | 1.9 | 0.075 | 17 | 60 | 0.9980 | 3.16 | 0.58 | 9.8 | 6 |\n",
       "|  7.4 | 0.70 | 0.00 | 1.9 | 0.076 | 11 | 34 | 0.9978 | 3.51 | 0.56 | 9.4 | 5 |\n",
       "|  7.4 | 0.66 | 0.00 | 1.8 | 0.075 | 13 | 40 | 0.9978 | 3.51 | 0.56 | 9.4 | 5 |\n",
       "\n"
      ],
      "text/plain": [
       "  fixed_acidity volatile_acidity citric_acid residual_sugar chlorides\n",
       "1  7.4          0.70             0.00        1.9            0.076    \n",
       "2  7.8          0.88             0.00        2.6            0.098    \n",
       "3  7.8          0.76             0.04        2.3            0.092    \n",
       "4 11.2          0.28             0.56        1.9            0.075    \n",
       "5  7.4          0.70             0.00        1.9            0.076    \n",
       "6  7.4          0.66             0.00        1.8            0.075    \n",
       "  free_sulfur_dioxide total_sulfur_dioxide density pH   sulphates alcohol\n",
       "1 11                  34                   0.9978  3.51 0.56      9.4    \n",
       "2 25                  67                   0.9968  3.20 0.68      9.8    \n",
       "3 15                  54                   0.9970  3.26 0.65      9.8    \n",
       "4 17                  60                   0.9980  3.16 0.58      9.8    \n",
       "5 11                  34                   0.9978  3.51 0.56      9.4    \n",
       "6 13                  40                   0.9978  3.51 0.56      9.4    \n",
       "  quality\n",
       "1 5      \n",
       "2 5      \n",
       "3 5      \n",
       "4 6      \n",
       "5 5      \n",
       "6 5      "
      ]
     },
     "metadata": {},
     "output_type": "display_data"
    }
   ],
   "source": [
    "# Read CSV data\n",
    "wine <- read_delim(\"data/winequality-red.csv\", delim = \";\")\n",
    "new_names <- c(\"fixed_acidity\", \"volatile_acidity\", \"citric_acid\", \"residual_sugar\", \"chlorides\", \"free_sulfur_dioxide\", \n",
    "              \"total_sulfur_dioxide\", \"density\", \"pH\", \"sulphates\", \"alcohol\", \"quality\")\n",
    "colnames(wine) <- new_names\n",
    "head(wine)"
   ]
  },
  {
   "cell_type": "markdown",
   "id": "d282edda-5565-4c2a-9901-95a85a2af1b7",
   "metadata": {},
   "source": [
    "> *Figure 1.1. Loaded dataset of wine quality.*"
   ]
  },
  {
   "cell_type": "markdown",
   "id": "7ddce4d5-dce8-4c0f-b465-7518cd230d6c",
   "metadata": {},
   "source": [
    "### Split Dataset"
   ]
  },
  {
   "cell_type": "code",
   "execution_count": 16,
   "id": "a43174b9-1b3f-48c6-8cd2-4d9298beeb07",
   "metadata": {},
   "outputs": [
    {
     "ename": "ERROR",
     "evalue": "Error in initial_split(wine, prop = 0.75, strata = quality): could not find function \"initial_split\"\n",
     "output_type": "error",
     "traceback": [
      "Error in initial_split(wine, prop = 0.75, strata = quality): could not find function \"initial_split\"\nTraceback:\n"
     ]
    }
   ],
   "source": [
    "# Pick seed 1234 for reproducible results\n",
    "set.seed(1234)\n",
    "\n",
    "# Split dataset into 75% training and 25% testing\n",
    "wine_split <- initial_split(wine, prop = 0.75, strata = quality)\n",
    "wine_train <- training(htru_split)\n",
    "wine_test <- testing(htru_split)\n",
    "\n",
    "glimpse(wine_train)\n",
    "glimpse(wine_test)"
   ]
  },
  {
   "cell_type": "markdown",
   "id": "4e6b3605-6712-449e-8299-805d5ecfdb44",
   "metadata": {},
   "source": [
    "### 3.2. Exploratory Data Analysis"
   ]
  },
  {
   "cell_type": "markdown",
   "id": "c0513b36-9106-4657-8ed7-58d2c7283c5e",
   "metadata": {},
   "source": [
    "We first set a seed to ensure reproducibility. We then split the data into a training set (75% of the dataset) and a testing set (the remaining 25%). We check the number of rows for each training and testing dataset to make sure the split was done correctly. The training set will be used to train our model. The testing set will be used to validate the results of our model."
   ]
  },
  {
   "cell_type": "markdown",
   "id": "6bffe9b5-b5a0-4666-a790-ecedbd15b00e",
   "metadata": {},
   "source": [
    "First, we check for missing values..."
   ]
  },
  {
   "cell_type": "code",
   "execution_count": 3,
   "id": "9ebbf02d-f91a-41cb-ae02-55bd43a368ce",
   "metadata": {},
   "outputs": [
    {
     "data": {
      "text/html": [
       "1198"
      ],
      "text/latex": [
       "1198"
      ],
      "text/markdown": [
       "1198"
      ],
      "text/plain": [
       "[1] 1198"
      ]
     },
     "metadata": {},
     "output_type": "display_data"
    },
    {
     "data": {
      "text/html": [
       "401"
      ],
      "text/latex": [
       "401"
      ],
      "text/markdown": [
       "401"
      ],
      "text/plain": [
       "[1] 401"
      ]
     },
     "metadata": {},
     "output_type": "display_data"
    }
   ],
   "source": [
    "# Setting the seed.\n",
    "set.seed(7)\n",
    "\n",
    "# Splitting the data.\n",
    "wine_split <- initial_split(wine, prop = 0.75, strata = quality)\n",
    "wine_train <- training(wine_split)\n",
    "wine_test <- testing(wine_split)\n",
    "\n",
    "nrow(wine_train)\n",
    "nrow(wine_test)"
   ]
  },
  {
   "cell_type": "markdown",
   "id": "e4d5c592-c998-4214-97c5-023823631e77",
   "metadata": {},
   "source": [
    "As we can see, the split was done appropriately. We can now move on to see if there are any missing values in our entire dataset:"
   ]
  },
  {
   "cell_type": "code",
   "execution_count": 4,
   "id": "0cce501e-4754-4c9d-b1c4-b34ec8946929",
   "metadata": {},
   "outputs": [
    {
     "data": {
      "text/html": [
       "0"
      ],
      "text/latex": [
       "0"
      ],
      "text/markdown": [
       "0"
      ],
      "text/plain": [
       "[1] 0"
      ]
     },
     "metadata": {},
     "output_type": "display_data"
    }
   ],
   "source": [
    "sum(is.na(wine))"
   ]
  },
  {
   "cell_type": "markdown",
   "id": "ed38574b-09bb-4bcb-aa6b-b67ae416cb4d",
   "metadata": {},
   "source": [
    "... And summary statistics."
   ]
  },
  {
   "cell_type": "code",
   "execution_count": 9,
   "id": "ef4117b7-222f-4fb3-a73e-ef4bf147b212",
   "metadata": {},
   "outputs": [
    {
     "data": {
      "text/plain": [
       " fixed_acidity    volatile_acidity  citric_acid     residual_sugar  \n",
       " Min.   : 4.600   Min.   :0.1200   Min.   :0.0000   Min.   : 0.900  \n",
       " 1st Qu.: 7.100   1st Qu.:0.3900   1st Qu.:0.0925   1st Qu.: 1.900  \n",
       " Median : 7.900   Median :0.5200   Median :0.2600   Median : 2.200  \n",
       " Mean   : 8.325   Mean   :0.5253   Mean   :0.2721   Mean   : 2.534  \n",
       " 3rd Qu.: 9.200   3rd Qu.:0.6350   3rd Qu.:0.4275   3rd Qu.: 2.600  \n",
       " Max.   :15.600   Max.   :1.3300   Max.   :1.0000   Max.   :15.500  \n",
       "   chlorides       free_sulfur_dioxide total_sulfur_dioxide    density      \n",
       " Min.   :0.01200   Min.   : 1.00       Min.   :  6.00       Min.   :0.9901  \n",
       " 1st Qu.:0.07000   1st Qu.: 7.00       1st Qu.: 22.00       1st Qu.:0.9956  \n",
       " Median :0.07900   Median :14.00       Median : 38.00       Median :0.9968  \n",
       " Mean   :0.08754   Mean   :15.92       Mean   : 46.56       Mean   :0.9968  \n",
       " 3rd Qu.:0.09100   3rd Qu.:22.00       3rd Qu.: 62.00       3rd Qu.:0.9978  \n",
       " Max.   :0.61000   Max.   :72.00       Max.   :278.00       Max.   :1.0037  \n",
       "       pH          sulphates         alcohol         quality     \n",
       " Min.   :2.740   Min.   :0.3300   Min.   : 8.40   Min.   :3.000  \n",
       " 1st Qu.:3.210   1st Qu.:0.5500   1st Qu.: 9.50   1st Qu.:5.000  \n",
       " Median :3.310   Median :0.6200   Median :10.10   Median :6.000  \n",
       " Mean   :3.309   Mean   :0.6634   Mean   :10.41   Mean   :5.631  \n",
       " 3rd Qu.:3.400   3rd Qu.:0.7300   3rd Qu.:11.10   3rd Qu.:6.000  \n",
       " Max.   :3.900   Max.   :2.0000   Max.   :14.00   Max.   :8.000  "
      ]
     },
     "metadata": {},
     "output_type": "display_data"
    }
   ],
   "source": [
    "# Summary Statistics\n",
    "summary(wine_train)"
   ]
  },
  {
   "cell_type": "markdown",
   "id": "71688699-ff9f-47b4-8c9c-a42fd92ee9ba",
   "metadata": {},
   "source": [
    "> *Figure 1.2. Summary statistics.*"
   ]
  },
  {
   "cell_type": "markdown",
   "id": "4cac8590-81b8-425a-a9b7-930b27479b09",
   "metadata": {},
   "source": [
    "Next, we examine the means of the independent variables for every level of our response variable \"quality\"."
   ]
  },
  {
   "cell_type": "code",
   "execution_count": 8,
   "id": "3c979cc3-fd6e-430c-a070-51067e91e488",
   "metadata": {},
   "outputs": [
    {
     "data": {
      "text/html": [
       "<table class=\"dataframe\">\n",
       "<caption>A tibble: 6 × 12</caption>\n",
       "<thead>\n",
       "\t<tr><th scope=col>quality</th><th scope=col>fixed_acidity</th><th scope=col>volatile_acidity</th><th scope=col>citric_acid</th><th scope=col>residual_sugar</th><th scope=col>chlorides</th><th scope=col>free_sulfur_dioxide</th><th scope=col>total_sulfur_dioxide</th><th scope=col>density</th><th scope=col>pH</th><th scope=col>sulphates</th><th scope=col>alcohol</th></tr>\n",
       "\t<tr><th scope=col>&lt;fct&gt;</th><th scope=col>&lt;dbl&gt;</th><th scope=col>&lt;dbl&gt;</th><th scope=col>&lt;dbl&gt;</th><th scope=col>&lt;dbl&gt;</th><th scope=col>&lt;dbl&gt;</th><th scope=col>&lt;dbl&gt;</th><th scope=col>&lt;dbl&gt;</th><th scope=col>&lt;dbl&gt;</th><th scope=col>&lt;dbl&gt;</th><th scope=col>&lt;dbl&gt;</th><th scope=col>&lt;dbl&gt;</th></tr>\n",
       "</thead>\n",
       "<tbody>\n",
       "\t<tr><td>3</td><td>8.444444</td><td>0.8072222</td><td>0.1900000</td><td>2.694444</td><td>0.12088889</td><td>11.66667</td><td>26.66667</td><td>0.9977644</td><td>3.386667</td><td>0.5888889</td><td> 9.850000</td></tr>\n",
       "\t<tr><td>4</td><td>7.653846</td><td>0.6748718</td><td>0.1871795</td><td>2.823077</td><td>0.09584615</td><td>11.82051</td><td>36.38462</td><td>0.9965918</td><td>3.386667</td><td>0.6153846</td><td>10.333333</td></tr>\n",
       "\t<tr><td>5</td><td>8.150392</td><td>0.5789804</td><td>0.2440588</td><td>2.533922</td><td>0.09399216</td><td>17.08627</td><td>56.34216</td><td>0.9971438</td><td>3.305039</td><td>0.6278431</td><td> 9.880196</td></tr>\n",
       "\t<tr><td>6</td><td>8.410879</td><td>0.4951883</td><td>0.2752092</td><td>2.451464</td><td>0.08390377</td><td>15.85460</td><td>41.37029</td><td>0.9966474</td><td>3.313431</td><td>0.6771967</td><td>10.608543</td></tr>\n",
       "\t<tr><td>7</td><td>8.850993</td><td>0.3912914</td><td>0.3796689</td><td>2.709934</td><td>0.07459603</td><td>13.49338</td><td>34.15232</td><td>0.9960086</td><td>3.282252</td><td>0.7486093</td><td>11.483554</td></tr>\n",
       "\t<tr><td>8</td><td>7.709091</td><td>0.4263636</td><td>0.3336364</td><td>2.545455</td><td>0.06700000</td><td>15.72727</td><td>40.72727</td><td>0.9942845</td><td>3.319091</td><td>0.7709091</td><td>12.481818</td></tr>\n",
       "</tbody>\n",
       "</table>\n"
      ],
      "text/latex": [
       "A tibble: 6 × 12\n",
       "\\begin{tabular}{llllllllllll}\n",
       " quality & fixed\\_acidity & volatile\\_acidity & citric\\_acid & residual\\_sugar & chlorides & free\\_sulfur\\_dioxide & total\\_sulfur\\_dioxide & density & pH & sulphates & alcohol\\\\\n",
       " <fct> & <dbl> & <dbl> & <dbl> & <dbl> & <dbl> & <dbl> & <dbl> & <dbl> & <dbl> & <dbl> & <dbl>\\\\\n",
       "\\hline\n",
       "\t 3 & 8.444444 & 0.8072222 & 0.1900000 & 2.694444 & 0.12088889 & 11.66667 & 26.66667 & 0.9977644 & 3.386667 & 0.5888889 &  9.850000\\\\\n",
       "\t 4 & 7.653846 & 0.6748718 & 0.1871795 & 2.823077 & 0.09584615 & 11.82051 & 36.38462 & 0.9965918 & 3.386667 & 0.6153846 & 10.333333\\\\\n",
       "\t 5 & 8.150392 & 0.5789804 & 0.2440588 & 2.533922 & 0.09399216 & 17.08627 & 56.34216 & 0.9971438 & 3.305039 & 0.6278431 &  9.880196\\\\\n",
       "\t 6 & 8.410879 & 0.4951883 & 0.2752092 & 2.451464 & 0.08390377 & 15.85460 & 41.37029 & 0.9966474 & 3.313431 & 0.6771967 & 10.608543\\\\\n",
       "\t 7 & 8.850993 & 0.3912914 & 0.3796689 & 2.709934 & 0.07459603 & 13.49338 & 34.15232 & 0.9960086 & 3.282252 & 0.7486093 & 11.483554\\\\\n",
       "\t 8 & 7.709091 & 0.4263636 & 0.3336364 & 2.545455 & 0.06700000 & 15.72727 & 40.72727 & 0.9942845 & 3.319091 & 0.7709091 & 12.481818\\\\\n",
       "\\end{tabular}\n"
      ],
      "text/markdown": [
       "\n",
       "A tibble: 6 × 12\n",
       "\n",
       "| quality &lt;fct&gt; | fixed_acidity &lt;dbl&gt; | volatile_acidity &lt;dbl&gt; | citric_acid &lt;dbl&gt; | residual_sugar &lt;dbl&gt; | chlorides &lt;dbl&gt; | free_sulfur_dioxide &lt;dbl&gt; | total_sulfur_dioxide &lt;dbl&gt; | density &lt;dbl&gt; | pH &lt;dbl&gt; | sulphates &lt;dbl&gt; | alcohol &lt;dbl&gt; |\n",
       "|---|---|---|---|---|---|---|---|---|---|---|---|\n",
       "| 3 | 8.444444 | 0.8072222 | 0.1900000 | 2.694444 | 0.12088889 | 11.66667 | 26.66667 | 0.9977644 | 3.386667 | 0.5888889 |  9.850000 |\n",
       "| 4 | 7.653846 | 0.6748718 | 0.1871795 | 2.823077 | 0.09584615 | 11.82051 | 36.38462 | 0.9965918 | 3.386667 | 0.6153846 | 10.333333 |\n",
       "| 5 | 8.150392 | 0.5789804 | 0.2440588 | 2.533922 | 0.09399216 | 17.08627 | 56.34216 | 0.9971438 | 3.305039 | 0.6278431 |  9.880196 |\n",
       "| 6 | 8.410879 | 0.4951883 | 0.2752092 | 2.451464 | 0.08390377 | 15.85460 | 41.37029 | 0.9966474 | 3.313431 | 0.6771967 | 10.608543 |\n",
       "| 7 | 8.850993 | 0.3912914 | 0.3796689 | 2.709934 | 0.07459603 | 13.49338 | 34.15232 | 0.9960086 | 3.282252 | 0.7486093 | 11.483554 |\n",
       "| 8 | 7.709091 | 0.4263636 | 0.3336364 | 2.545455 | 0.06700000 | 15.72727 | 40.72727 | 0.9942845 | 3.319091 | 0.7709091 | 12.481818 |\n",
       "\n"
      ],
      "text/plain": [
       "  quality fixed_acidity volatile_acidity citric_acid residual_sugar chlorides \n",
       "1 3       8.444444      0.8072222        0.1900000   2.694444       0.12088889\n",
       "2 4       7.653846      0.6748718        0.1871795   2.823077       0.09584615\n",
       "3 5       8.150392      0.5789804        0.2440588   2.533922       0.09399216\n",
       "4 6       8.410879      0.4951883        0.2752092   2.451464       0.08390377\n",
       "5 7       8.850993      0.3912914        0.3796689   2.709934       0.07459603\n",
       "6 8       7.709091      0.4263636        0.3336364   2.545455       0.06700000\n",
       "  free_sulfur_dioxide total_sulfur_dioxide density   pH       sulphates\n",
       "1 11.66667            26.66667             0.9977644 3.386667 0.5888889\n",
       "2 11.82051            36.38462             0.9965918 3.386667 0.6153846\n",
       "3 17.08627            56.34216             0.9971438 3.305039 0.6278431\n",
       "4 15.85460            41.37029             0.9966474 3.313431 0.6771967\n",
       "5 13.49338            34.15232             0.9960086 3.282252 0.7486093\n",
       "6 15.72727            40.72727             0.9942845 3.319091 0.7709091\n",
       "  alcohol  \n",
       "1  9.850000\n",
       "2 10.333333\n",
       "3  9.880196\n",
       "4 10.608543\n",
       "5 11.483554\n",
       "6 12.481818"
      ]
     },
     "metadata": {},
     "output_type": "display_data"
    }
   ],
   "source": [
    "# Means for each level of response variable \"quality\"\n",
    "response_means <- wine_train %>%\n",
    "mutate(quality = as.factor(quality)) %>%\n",
    "group_by(quality) %>%\n",
    "summarise_all(mean)\n",
    "\n",
    "response_means"
   ]
  },
  {
   "cell_type": "markdown",
   "id": "2fd06de4-a90f-4deb-bc4b-b295b67d8dbf",
   "metadata": {},
   "source": [
    "> *Figure 1.3. Means for each level of the response variable \"quality\".*"
   ]
  },
  {
   "cell_type": "markdown",
   "id": "07eb51ed-77f2-40e6-bbc8-8befdeb48eb7",
   "metadata": {},
   "source": [
    "### 3.3. Exploratory Data Analysis Visualization"
   ]
  },
  {
   "cell_type": "markdown",
   "id": "c41166ab-39c1-47d0-a625-1ca2a52dcea5",
   "metadata": {},
   "source": [
    "### 3.4. Linear Regression Analysis"
   ]
  },
  {
   "cell_type": "markdown",
   "id": "c39756b8-64a9-48ca-9762-393a11d99095",
   "metadata": {},
   "source": [
    "We first specify a linear regression model and then a recipe. In the recipe, we state \"quality\" as our response variable, and the other 11 variables as input variables. We then set up the workflow and train the model using our training set."
   ]
  },
  {
   "cell_type": "code",
   "execution_count": 7,
   "id": "adfc66f0-db32-4b0d-b2b3-bdef40ae8ccf",
   "metadata": {},
   "outputs": [
    {
     "data": {
      "text/plain": [
       "══ Workflow [trained] ══════════════════════════════════════════════════════════════════════════════════════════════════\n",
       "\u001b[3mPreprocessor:\u001b[23m Recipe\n",
       "\u001b[3mModel:\u001b[23m linear_reg()\n",
       "\n",
       "── Preprocessor ────────────────────────────────────────────────────────────────────────────────────────────────────────\n",
       "0 Recipe Steps\n",
       "\n",
       "── Model ───────────────────────────────────────────────────────────────────────────────────────────────────────────────\n",
       "\n",
       "Call:\n",
       "stats::lm(formula = ..y ~ ., data = data)\n",
       "\n",
       "Coefficients:\n",
       "         (Intercept)         fixed_acidity      volatile_acidity  \n",
       "           56.828184              0.067138             -1.062734  \n",
       "         citric_acid        residual_sugar             chlorides  \n",
       "           -0.312009              0.027422             -1.933748  \n",
       " free_sulfur_dioxide  total_sulfur_dioxide               density  \n",
       "            0.002698             -0.002326            -53.297819  \n",
       "                  pH             sulphates               alcohol  \n",
       "           -0.340804              0.880669              0.261355  \n"
      ]
     },
     "metadata": {},
     "output_type": "display_data"
    }
   ],
   "source": [
    "# Specifying a linear regression model.\n",
    "lm_spec <- linear_reg() %>%\n",
    "  set_engine(\"lm\") %>%\n",
    "  set_mode(\"regression\")\n",
    "\n",
    "# Setting up the recipe.\n",
    "wine_lm_recipe <- recipe(quality ~ ., data = wine_train)\n",
    "\n",
    "# Training the model.\n",
    "wine_lm_fit <- workflow() %>%\n",
    "  add_recipe(wine_lm_recipe) %>%\n",
    "  add_model(lm_spec) %>%\n",
    "  fit(data = wine_train)\n",
    "\n",
    "wine_lm_fit"
   ]
  },
  {
   "cell_type": "markdown",
   "id": "baacf6cd-2643-4bb7-9be4-ae1909340649",
   "metadata": {},
   "source": [
    "*Figure ?.?. Linear regression workflow summary.*"
   ]
  },
  {
   "cell_type": "markdown",
   "id": "8e9b5a99-9688-4980-b9a8-a26c916bc2d4",
   "metadata": {},
   "source": [
    "Let's take a closer look at the obtained coefficients:"
   ]
  },
  {
   "cell_type": "code",
   "execution_count": 8,
   "id": "eb0f08c3-5161-422c-b61a-60c42c26b314",
   "metadata": {},
   "outputs": [
    {
     "data": {
      "text/html": [
       "<table class=\"dataframe\">\n",
       "<caption>A tibble: 12 × 5</caption>\n",
       "<thead>\n",
       "\t<tr><th scope=col>term</th><th scope=col>estimate</th><th scope=col>std.error</th><th scope=col>statistic</th><th scope=col>p.value</th></tr>\n",
       "\t<tr><th scope=col>&lt;chr&gt;</th><th scope=col>&lt;dbl&gt;</th><th scope=col>&lt;dbl&gt;</th><th scope=col>&lt;dbl&gt;</th><th scope=col>&lt;dbl&gt;</th></tr>\n",
       "</thead>\n",
       "<tbody>\n",
       "\t<tr><td>(Intercept)         </td><td> 56.828184203</td><td>2.502875e+01</td><td> 2.270517</td><td>2.335499e-02</td></tr>\n",
       "\t<tr><td>fixed_acidity       </td><td>  0.067138387</td><td>3.059287e-02</td><td> 2.194577</td><td>2.838733e-02</td></tr>\n",
       "\t<tr><td>volatile_acidity    </td><td> -1.062734150</td><td>1.420083e-01</td><td>-7.483607</td><td>1.404560e-13</td></tr>\n",
       "\t<tr><td>citric_acid         </td><td> -0.312008677</td><td>1.681621e-01</td><td>-1.855404</td><td>6.378652e-02</td></tr>\n",
       "\t<tr><td>residual_sugar      </td><td>  0.027421953</td><td>1.767344e-02</td><td> 1.551591</td><td>1.210269e-01</td></tr>\n",
       "\t<tr><td>chlorides           </td><td> -1.933748370</td><td>4.867008e-01</td><td>-3.973177</td><td>7.519602e-05</td></tr>\n",
       "\t<tr><td>free_sulfur_dioxide </td><td>  0.002698070</td><td>2.477179e-03</td><td> 1.089171</td><td>2.762999e-01</td></tr>\n",
       "\t<tr><td>total_sulfur_dioxide</td><td> -0.002325663</td><td>8.487522e-04</td><td>-2.740096</td><td>6.234277e-03</td></tr>\n",
       "\t<tr><td>density             </td><td>-53.297819327</td><td>2.555870e+01</td><td>-2.085310</td><td>3.725455e-02</td></tr>\n",
       "\t<tr><td>pH                  </td><td> -0.340803673</td><td>2.246360e-01</td><td>-1.517137</td><td>1.294985e-01</td></tr>\n",
       "\t<tr><td>sulphates           </td><td>  0.880668818</td><td>1.279770e-01</td><td> 6.881463</td><td>9.572571e-12</td></tr>\n",
       "\t<tr><td>alcohol             </td><td>  0.261355266</td><td>3.092454e-02</td><td> 8.451388</td><td>8.334761e-17</td></tr>\n",
       "</tbody>\n",
       "</table>\n"
      ],
      "text/latex": [
       "A tibble: 12 × 5\n",
       "\\begin{tabular}{lllll}\n",
       " term & estimate & std.error & statistic & p.value\\\\\n",
       " <chr> & <dbl> & <dbl> & <dbl> & <dbl>\\\\\n",
       "\\hline\n",
       "\t (Intercept)          &  56.828184203 & 2.502875e+01 &  2.270517 & 2.335499e-02\\\\\n",
       "\t fixed\\_acidity        &   0.067138387 & 3.059287e-02 &  2.194577 & 2.838733e-02\\\\\n",
       "\t volatile\\_acidity     &  -1.062734150 & 1.420083e-01 & -7.483607 & 1.404560e-13\\\\\n",
       "\t citric\\_acid          &  -0.312008677 & 1.681621e-01 & -1.855404 & 6.378652e-02\\\\\n",
       "\t residual\\_sugar       &   0.027421953 & 1.767344e-02 &  1.551591 & 1.210269e-01\\\\\n",
       "\t chlorides            &  -1.933748370 & 4.867008e-01 & -3.973177 & 7.519602e-05\\\\\n",
       "\t free\\_sulfur\\_dioxide  &   0.002698070 & 2.477179e-03 &  1.089171 & 2.762999e-01\\\\\n",
       "\t total\\_sulfur\\_dioxide &  -0.002325663 & 8.487522e-04 & -2.740096 & 6.234277e-03\\\\\n",
       "\t density              & -53.297819327 & 2.555870e+01 & -2.085310 & 3.725455e-02\\\\\n",
       "\t pH                   &  -0.340803673 & 2.246360e-01 & -1.517137 & 1.294985e-01\\\\\n",
       "\t sulphates            &   0.880668818 & 1.279770e-01 &  6.881463 & 9.572571e-12\\\\\n",
       "\t alcohol              &   0.261355266 & 3.092454e-02 &  8.451388 & 8.334761e-17\\\\\n",
       "\\end{tabular}\n"
      ],
      "text/markdown": [
       "\n",
       "A tibble: 12 × 5\n",
       "\n",
       "| term &lt;chr&gt; | estimate &lt;dbl&gt; | std.error &lt;dbl&gt; | statistic &lt;dbl&gt; | p.value &lt;dbl&gt; |\n",
       "|---|---|---|---|---|\n",
       "| (Intercept)          |  56.828184203 | 2.502875e+01 |  2.270517 | 2.335499e-02 |\n",
       "| fixed_acidity        |   0.067138387 | 3.059287e-02 |  2.194577 | 2.838733e-02 |\n",
       "| volatile_acidity     |  -1.062734150 | 1.420083e-01 | -7.483607 | 1.404560e-13 |\n",
       "| citric_acid          |  -0.312008677 | 1.681621e-01 | -1.855404 | 6.378652e-02 |\n",
       "| residual_sugar       |   0.027421953 | 1.767344e-02 |  1.551591 | 1.210269e-01 |\n",
       "| chlorides            |  -1.933748370 | 4.867008e-01 | -3.973177 | 7.519602e-05 |\n",
       "| free_sulfur_dioxide  |   0.002698070 | 2.477179e-03 |  1.089171 | 2.762999e-01 |\n",
       "| total_sulfur_dioxide |  -0.002325663 | 8.487522e-04 | -2.740096 | 6.234277e-03 |\n",
       "| density              | -53.297819327 | 2.555870e+01 | -2.085310 | 3.725455e-02 |\n",
       "| pH                   |  -0.340803673 | 2.246360e-01 | -1.517137 | 1.294985e-01 |\n",
       "| sulphates            |   0.880668818 | 1.279770e-01 |  6.881463 | 9.572571e-12 |\n",
       "| alcohol              |   0.261355266 | 3.092454e-02 |  8.451388 | 8.334761e-17 |\n",
       "\n"
      ],
      "text/plain": [
       "   term                 estimate      std.error    statistic p.value     \n",
       "1  (Intercept)           56.828184203 2.502875e+01  2.270517 2.335499e-02\n",
       "2  fixed_acidity          0.067138387 3.059287e-02  2.194577 2.838733e-02\n",
       "3  volatile_acidity      -1.062734150 1.420083e-01 -7.483607 1.404560e-13\n",
       "4  citric_acid           -0.312008677 1.681621e-01 -1.855404 6.378652e-02\n",
       "5  residual_sugar         0.027421953 1.767344e-02  1.551591 1.210269e-01\n",
       "6  chlorides             -1.933748370 4.867008e-01 -3.973177 7.519602e-05\n",
       "7  free_sulfur_dioxide    0.002698070 2.477179e-03  1.089171 2.762999e-01\n",
       "8  total_sulfur_dioxide  -0.002325663 8.487522e-04 -2.740096 6.234277e-03\n",
       "9  density              -53.297819327 2.555870e+01 -2.085310 3.725455e-02\n",
       "10 pH                    -0.340803673 2.246360e-01 -1.517137 1.294985e-01\n",
       "11 sulphates              0.880668818 1.279770e-01  6.881463 9.572571e-12\n",
       "12 alcohol                0.261355266 3.092454e-02  8.451388 8.334761e-17"
      ]
     },
     "metadata": {},
     "output_type": "display_data"
    }
   ],
   "source": [
    "# Pulling information of the coefficients in a tibble.\n",
    "wine_coeffs <- wine_lm_fit %>%\n",
    "               extract_fit_parsnip() %>%\n",
    "               tidy()\n",
    "\n",
    "wine_coeffs"
   ]
  },
  {
   "cell_type": "markdown",
   "id": "023bab7e-3751-4e55-a9bc-65b0aab69b75",
   "metadata": {},
   "source": [
    "*Table ?.?. Summary of the coefficients from the linear regression with their respective standard error, statistic, and p-value.*"
   ]
  },
  {
   "cell_type": "markdown",
   "id": "4ea2a747-25a5-44db-85af-b47172df2a83",
   "metadata": {},
   "source": [
    "All our input variables are statistically significant, as all their p-values are < 0.05. The full equation of our linear regression model is (rounded to the nearest 3 decimals):  \n",
    "\n",
    "quality = 56.828 + 0.067 x fixed_acidity - 1.063 x volatile_acidity - 0.312 x citric_acid + 0.027 x residual_sugar - 1.934 x chlorides + 0.003 x free_sulfur_dioxide - 0.002 x total_sulfur_dioxide - 53.300 x density - 0.341 x pH - 0.881 x sulphates + 0.261 x alcohol  \n",
    "\n",
    "We can also determine the correlation between the input variables and the response variable quality:\n",
    "- Positively correlated: fixed acidity, residual sugar, free sulfur dipxide, sulphates, and alcohol.\n",
    "- Negatively correlated: volatile acidity, citric acid, chlorides, total sulfur dioxide, density, and pH.\n",
    "\n",
    "We then test our model on the testing set:"
   ]
  },
  {
   "cell_type": "code",
   "execution_count": 10,
   "id": "52294667-1d70-45cf-bbb9-abe74bda6b25",
   "metadata": {},
   "outputs": [
    {
     "data": {
      "text/html": [
       "<table class=\"dataframe\">\n",
       "<caption>A tibble: 3 × 3</caption>\n",
       "<thead>\n",
       "\t<tr><th scope=col>.metric</th><th scope=col>.estimator</th><th scope=col>.estimate</th></tr>\n",
       "\t<tr><th scope=col>&lt;chr&gt;</th><th scope=col>&lt;chr&gt;</th><th scope=col>&lt;dbl&gt;</th></tr>\n",
       "</thead>\n",
       "<tbody>\n",
       "\t<tr><td>rmse</td><td>standard</td><td>0.6683570</td></tr>\n",
       "\t<tr><td>rsq </td><td>standard</td><td>0.3212801</td></tr>\n",
       "\t<tr><td>mae </td><td>standard</td><td>0.5230570</td></tr>\n",
       "</tbody>\n",
       "</table>\n"
      ],
      "text/latex": [
       "A tibble: 3 × 3\n",
       "\\begin{tabular}{lll}\n",
       " .metric & .estimator & .estimate\\\\\n",
       " <chr> & <chr> & <dbl>\\\\\n",
       "\\hline\n",
       "\t rmse & standard & 0.6683570\\\\\n",
       "\t rsq  & standard & 0.3212801\\\\\n",
       "\t mae  & standard & 0.5230570\\\\\n",
       "\\end{tabular}\n"
      ],
      "text/markdown": [
       "\n",
       "A tibble: 3 × 3\n",
       "\n",
       "| .metric &lt;chr&gt; | .estimator &lt;chr&gt; | .estimate &lt;dbl&gt; |\n",
       "|---|---|---|\n",
       "| rmse | standard | 0.6683570 |\n",
       "| rsq  | standard | 0.3212801 |\n",
       "| mae  | standard | 0.5230570 |\n",
       "\n"
      ],
      "text/plain": [
       "  .metric .estimator .estimate\n",
       "1 rmse    standard   0.6683570\n",
       "2 rsq     standard   0.3212801\n",
       "3 mae     standard   0.5230570"
      ]
     },
     "metadata": {},
     "output_type": "display_data"
    }
   ],
   "source": [
    "# Finding the RMSPE, R^2, and MAE.\n",
    "\n",
    "wine_lm_test_results <- wine_lm_fit %>%\n",
    "  predict(wine_test) %>%\n",
    "  bind_cols(wine_test) %>%\n",
    "  metrics(truth = quality, estimate = .pred)\n",
    "\n",
    "wine_lm_test_results"
   ]
  },
  {
   "cell_type": "markdown",
   "id": "5a9689ca-ff53-4aa7-aa68-b5a3f23dba04",
   "metadata": {},
   "source": [
    "*Table ?.?. Estimates of the model's performance on the testing set.*"
   ]
  },
  {
   "cell_type": "markdown",
   "id": "79865c80-666b-40b3-a7f3-ac378b7ff12b",
   "metadata": {},
   "source": [
    "Our RMSPE is 0.67 units of quality, which we deem to be a low value. Our mean absolute error is 0.52 units of quality, which we also deem to be a low value. Thus, we believe our model performs relatively well. However, our R^2 is 0.32 which is a low number, indicating that our model does not fit the data as well as hoped."
   ]
  },
  {
   "cell_type": "markdown",
   "id": "46782335-5806-4c35-9c71-54efcf7bfe20",
   "metadata": {},
   "source": [
    "### 3.5. Regression Visualization"
   ]
  },
  {
   "cell_type": "markdown",
   "id": "ad30ef94-f467-4512-9a63-f2533e94a8ea",
   "metadata": {},
   "source": [
    "## 4. Discussion"
   ]
  },
  {
   "cell_type": "markdown",
   "id": "fa81b982-3d17-4849-a689-56b65e040b43",
   "metadata": {},
   "source": [
    "### 4.1. Findings"
   ]
  },
  {
   "cell_type": "markdown",
   "id": "c61a4850-e0ec-421d-ac5c-8494bf7e7f2e",
   "metadata": {},
   "source": [
    "### 4.2. Impacts and Future Questions"
   ]
  },
  {
   "cell_type": "markdown",
   "id": "95395d7a-36ff-4d24-b91e-4bdb0df807dd",
   "metadata": {},
   "source": [
    "Using variable selection... stepwise? LASSO?"
   ]
  },
  {
   "cell_type": "markdown",
   "id": "861851a0-037e-46d4-993f-0a1e795d3e48",
   "metadata": {},
   "source": [
    "## 5. References"
   ]
  },
  {
   "cell_type": "markdown",
   "id": "12310b97-d98a-4b38-9fcc-9fee5f83a306",
   "metadata": {},
   "source": [
    "[Dataset information](http://dx.doi.org/10.1016/j.dss.2009.05.016)"
   ]
  }
 ],
 "metadata": {
  "kernelspec": {
   "display_name": "R",
   "language": "R",
   "name": "ir"
  },
  "language_info": {
   "codemirror_mode": "r",
   "file_extension": ".r",
   "mimetype": "text/x-r-source",
   "name": "R",
   "pygments_lexer": "r",
   "version": "4.3.2"
  }
 },
 "nbformat": 4,
 "nbformat_minor": 5
}
