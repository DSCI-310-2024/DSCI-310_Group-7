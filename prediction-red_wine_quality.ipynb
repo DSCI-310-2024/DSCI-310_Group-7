{
 "cells": [
  {
   "cell_type": "markdown",
   "id": "68dd51d9-0a5a-4e48-aa2c-d458de3ac3bb",
   "metadata": {},
   "source": [
    "# Predicting Wine Quality Using Linear Regression"
   ]
  },
  {
   "cell_type": "markdown",
   "id": "08480982-3c5a-4b9a-af42-4763d8bdd324",
   "metadata": {},
   "source": [
    "## Summary"
   ]
  },
  {
   "cell_type": "markdown",
   "id": "1d38ead6-eead-42e8-8479-be82f8346f9c",
   "metadata": {},
   "source": [
    "## Introduction\n",
    "[Wine is entrenched in many cultures and remains a strong industry worldwide.](https://www.toptal.com/finance/market-sizing/wine-industry) [Technological innovations have supported the growth of the wine industry, especially in the realm of certification and quality assessment.](http://dx.doi.org/10.1016/j.dss.2009.05.016) [One prominent innovation is the use of laboratory testing to relate physicochemical properties of wine to human sensory perceptions.](https://ieeexplore.ieee.org/document/10287348) Examples of physicochemical indicators include pH and and residual sugar. [Using data to model complex wine perceptions is a daunting task, but it can benefit wine production by flagging the most important properties to consider and informing price setting.](http://dx.doi.org/10.1016/j.dss.2009.05.016)\n",
    "\n",
    "Thus, our key question is: **Can we use multiple linear regression and various physicochemical indicators to predict the quality of red wine?**\n",
    "\n",
    "To answer whether a full regression model is viable, we use a [dataset on red wine quality from the UCI Machine Learning Repository](https://doi.org/10.24432/C56S3T). The dataset comprises of 12 variables (11 physicochemical indicators and 1 quality indicator) and contains 1599 instances of red vinho verde, a popular wine from Portugal. Each instance of wine was assessed by at least three [sensory assessors](https://www.sensorysociety.org/knowledge/sspwiki/Pages/assessor.aspx) and scored on a ten point scale that ranges from \"very bad\" to \"excellent\"; the wine quality for each instance is determined by the median of these scores. The data was collected by the CVRVV, an inter-professional organisation dedicated to the promotion of vinho verde, from  May 2004 to February 2007. \n",
    "\n",
    "*need to format citations*"
   ]
  },
  {
   "cell_type": "markdown",
   "id": "345dfe11-bdd8-47e8-ba27-2f53c959cb6d",
   "metadata": {},
   "source": [
    "## Methods"
   ]
  },
  {
   "cell_type": "markdown",
   "id": "33f33812-0a9f-400e-82df-6fb87a34a4a3",
   "metadata": {},
   "source": [
    "### Load Data"
   ]
  },
  {
   "cell_type": "code",
   "execution_count": 2,
   "id": "7f9548fd-7048-4191-94b8-a625cf83eace",
   "metadata": {},
   "outputs": [
    {
     "name": "stderr",
     "output_type": "stream",
     "text": [
      "── \u001b[1mAttaching core tidyverse packages\u001b[22m ──────────────────────── tidyverse 2.0.0 ──\n",
      "\u001b[32m✔\u001b[39m \u001b[34mdplyr    \u001b[39m 1.1.3     \u001b[32m✔\u001b[39m \u001b[34mreadr    \u001b[39m 2.1.4\n",
      "\u001b[32m✔\u001b[39m \u001b[34mforcats  \u001b[39m 1.0.0     \u001b[32m✔\u001b[39m \u001b[34mstringr  \u001b[39m 1.5.0\n",
      "\u001b[32m✔\u001b[39m \u001b[34mggplot2  \u001b[39m 3.4.4     \u001b[32m✔\u001b[39m \u001b[34mtibble   \u001b[39m 3.2.1\n",
      "\u001b[32m✔\u001b[39m \u001b[34mlubridate\u001b[39m 1.9.3     \u001b[32m✔\u001b[39m \u001b[34mtidyr    \u001b[39m 1.3.0\n",
      "\u001b[32m✔\u001b[39m \u001b[34mpurrr    \u001b[39m 1.0.2     \n",
      "── \u001b[1mConflicts\u001b[22m ────────────────────────────────────────── tidyverse_conflicts() ──\n",
      "\u001b[31m✖\u001b[39m \u001b[34mdplyr\u001b[39m::\u001b[32mfilter()\u001b[39m masks \u001b[34mstats\u001b[39m::filter()\n",
      "\u001b[31m✖\u001b[39m \u001b[34mdplyr\u001b[39m::\u001b[32mlag()\u001b[39m    masks \u001b[34mstats\u001b[39m::lag()\n",
      "\u001b[36mℹ\u001b[39m Use the conflicted package (\u001b[3m\u001b[34m<http://conflicted.r-lib.org/>\u001b[39m\u001b[23m) to force all conflicts to become errors\n"
     ]
    }
   ],
   "source": [
    "# Import packages\n",
    "library(tidyverse)"
   ]
  },
  {
   "cell_type": "code",
   "execution_count": 15,
   "id": "018caf86-a987-49ef-a3d7-6a119fb8c729",
   "metadata": {},
   "outputs": [
    {
     "name": "stderr",
     "output_type": "stream",
     "text": [
      "\u001b[1mRows: \u001b[22m\u001b[34m1599\u001b[39m \u001b[1mColumns: \u001b[22m\u001b[34m12\u001b[39m\n",
      "\u001b[36m──\u001b[39m \u001b[1mColumn specification\u001b[22m \u001b[36m────────────────────────────────────────────────────────\u001b[39m\n",
      "\u001b[1mDelimiter:\u001b[22m \";\"\n",
      "\u001b[32mdbl\u001b[39m (12): fixed acidity, volatile acidity, citric acid, residual sugar, chlo...\n",
      "\n",
      "\u001b[36mℹ\u001b[39m Use `spec()` to retrieve the full column specification for this data.\n",
      "\u001b[36mℹ\u001b[39m Specify the column types or set `show_col_types = FALSE` to quiet this message.\n"
     ]
    },
    {
     "data": {
      "text/html": [
       "<table class=\"dataframe\">\n",
       "<caption>A tibble: 6 × 12</caption>\n",
       "<thead>\n",
       "\t<tr><th scope=col>fixed_acidity</th><th scope=col>volatile_acidity</th><th scope=col>citric_acid</th><th scope=col>residual_sugar</th><th scope=col>chlorides</th><th scope=col>free_sulfur_dioxide</th><th scope=col>total_sulfur_dioxide</th><th scope=col>density</th><th scope=col>pH</th><th scope=col>sulphates</th><th scope=col>alcohol</th><th scope=col>quality</th></tr>\n",
       "\t<tr><th scope=col>&lt;dbl&gt;</th><th scope=col>&lt;dbl&gt;</th><th scope=col>&lt;dbl&gt;</th><th scope=col>&lt;dbl&gt;</th><th scope=col>&lt;dbl&gt;</th><th scope=col>&lt;dbl&gt;</th><th scope=col>&lt;dbl&gt;</th><th scope=col>&lt;dbl&gt;</th><th scope=col>&lt;dbl&gt;</th><th scope=col>&lt;dbl&gt;</th><th scope=col>&lt;dbl&gt;</th><th scope=col>&lt;dbl&gt;</th></tr>\n",
       "</thead>\n",
       "<tbody>\n",
       "\t<tr><td> 7.4</td><td>0.70</td><td>0.00</td><td>1.9</td><td>0.076</td><td>11</td><td>34</td><td>0.9978</td><td>3.51</td><td>0.56</td><td>9.4</td><td>5</td></tr>\n",
       "\t<tr><td> 7.8</td><td>0.88</td><td>0.00</td><td>2.6</td><td>0.098</td><td>25</td><td>67</td><td>0.9968</td><td>3.20</td><td>0.68</td><td>9.8</td><td>5</td></tr>\n",
       "\t<tr><td> 7.8</td><td>0.76</td><td>0.04</td><td>2.3</td><td>0.092</td><td>15</td><td>54</td><td>0.9970</td><td>3.26</td><td>0.65</td><td>9.8</td><td>5</td></tr>\n",
       "\t<tr><td>11.2</td><td>0.28</td><td>0.56</td><td>1.9</td><td>0.075</td><td>17</td><td>60</td><td>0.9980</td><td>3.16</td><td>0.58</td><td>9.8</td><td>6</td></tr>\n",
       "\t<tr><td> 7.4</td><td>0.70</td><td>0.00</td><td>1.9</td><td>0.076</td><td>11</td><td>34</td><td>0.9978</td><td>3.51</td><td>0.56</td><td>9.4</td><td>5</td></tr>\n",
       "\t<tr><td> 7.4</td><td>0.66</td><td>0.00</td><td>1.8</td><td>0.075</td><td>13</td><td>40</td><td>0.9978</td><td>3.51</td><td>0.56</td><td>9.4</td><td>5</td></tr>\n",
       "</tbody>\n",
       "</table>\n"
      ],
      "text/latex": [
       "A tibble: 6 × 12\n",
       "\\begin{tabular}{llllllllllll}\n",
       " fixed\\_acidity & volatile\\_acidity & citric\\_acid & residual\\_sugar & chlorides & free\\_sulfur\\_dioxide & total\\_sulfur\\_dioxide & density & pH & sulphates & alcohol & quality\\\\\n",
       " <dbl> & <dbl> & <dbl> & <dbl> & <dbl> & <dbl> & <dbl> & <dbl> & <dbl> & <dbl> & <dbl> & <dbl>\\\\\n",
       "\\hline\n",
       "\t  7.4 & 0.70 & 0.00 & 1.9 & 0.076 & 11 & 34 & 0.9978 & 3.51 & 0.56 & 9.4 & 5\\\\\n",
       "\t  7.8 & 0.88 & 0.00 & 2.6 & 0.098 & 25 & 67 & 0.9968 & 3.20 & 0.68 & 9.8 & 5\\\\\n",
       "\t  7.8 & 0.76 & 0.04 & 2.3 & 0.092 & 15 & 54 & 0.9970 & 3.26 & 0.65 & 9.8 & 5\\\\\n",
       "\t 11.2 & 0.28 & 0.56 & 1.9 & 0.075 & 17 & 60 & 0.9980 & 3.16 & 0.58 & 9.8 & 6\\\\\n",
       "\t  7.4 & 0.70 & 0.00 & 1.9 & 0.076 & 11 & 34 & 0.9978 & 3.51 & 0.56 & 9.4 & 5\\\\\n",
       "\t  7.4 & 0.66 & 0.00 & 1.8 & 0.075 & 13 & 40 & 0.9978 & 3.51 & 0.56 & 9.4 & 5\\\\\n",
       "\\end{tabular}\n"
      ],
      "text/markdown": [
       "\n",
       "A tibble: 6 × 12\n",
       "\n",
       "| fixed_acidity &lt;dbl&gt; | volatile_acidity &lt;dbl&gt; | citric_acid &lt;dbl&gt; | residual_sugar &lt;dbl&gt; | chlorides &lt;dbl&gt; | free_sulfur_dioxide &lt;dbl&gt; | total_sulfur_dioxide &lt;dbl&gt; | density &lt;dbl&gt; | pH &lt;dbl&gt; | sulphates &lt;dbl&gt; | alcohol &lt;dbl&gt; | quality &lt;dbl&gt; |\n",
       "|---|---|---|---|---|---|---|---|---|---|---|---|\n",
       "|  7.4 | 0.70 | 0.00 | 1.9 | 0.076 | 11 | 34 | 0.9978 | 3.51 | 0.56 | 9.4 | 5 |\n",
       "|  7.8 | 0.88 | 0.00 | 2.6 | 0.098 | 25 | 67 | 0.9968 | 3.20 | 0.68 | 9.8 | 5 |\n",
       "|  7.8 | 0.76 | 0.04 | 2.3 | 0.092 | 15 | 54 | 0.9970 | 3.26 | 0.65 | 9.8 | 5 |\n",
       "| 11.2 | 0.28 | 0.56 | 1.9 | 0.075 | 17 | 60 | 0.9980 | 3.16 | 0.58 | 9.8 | 6 |\n",
       "|  7.4 | 0.70 | 0.00 | 1.9 | 0.076 | 11 | 34 | 0.9978 | 3.51 | 0.56 | 9.4 | 5 |\n",
       "|  7.4 | 0.66 | 0.00 | 1.8 | 0.075 | 13 | 40 | 0.9978 | 3.51 | 0.56 | 9.4 | 5 |\n",
       "\n"
      ],
      "text/plain": [
       "  fixed_acidity volatile_acidity citric_acid residual_sugar chlorides\n",
       "1  7.4          0.70             0.00        1.9            0.076    \n",
       "2  7.8          0.88             0.00        2.6            0.098    \n",
       "3  7.8          0.76             0.04        2.3            0.092    \n",
       "4 11.2          0.28             0.56        1.9            0.075    \n",
       "5  7.4          0.70             0.00        1.9            0.076    \n",
       "6  7.4          0.66             0.00        1.8            0.075    \n",
       "  free_sulfur_dioxide total_sulfur_dioxide density pH   sulphates alcohol\n",
       "1 11                  34                   0.9978  3.51 0.56      9.4    \n",
       "2 25                  67                   0.9968  3.20 0.68      9.8    \n",
       "3 15                  54                   0.9970  3.26 0.65      9.8    \n",
       "4 17                  60                   0.9980  3.16 0.58      9.8    \n",
       "5 11                  34                   0.9978  3.51 0.56      9.4    \n",
       "6 13                  40                   0.9978  3.51 0.56      9.4    \n",
       "  quality\n",
       "1 5      \n",
       "2 5      \n",
       "3 5      \n",
       "4 6      \n",
       "5 5      \n",
       "6 5      "
      ]
     },
     "metadata": {},
     "output_type": "display_data"
    }
   ],
   "source": [
    "# Read CSV data\n",
    "wine <- read_delim(\"data/winequality-red.csv\", delim = \";\")\n",
    "new_names <- c(\"fixed_acidity\", \"volatile_acidity\", \"citric_acid\", \"residual_sugar\", \"chlorides\", \"free_sulfur_dioxide\", \n",
    "              \"total_sulfur_dioxide\", \"density\", \"pH\", \"sulphates\", \"alcohol\", \"quality\")\n",
    "colnames(wine) <- new_names\n",
    "head(wine)"
   ]
  },
  {
   "cell_type": "markdown",
   "id": "d282edda-5565-4c2a-9901-95a85a2af1b7",
   "metadata": {},
   "source": [
    "> *Figure 1.1. Loaded dataset of wine quality.*"
   ]
  },
  {
   "cell_type": "markdown",
   "id": "7ddce4d5-dce8-4c0f-b465-7518cd230d6c",
   "metadata": {},
   "source": [
    "### Split Dataset"
   ]
  },
  {
   "cell_type": "code",
   "execution_count": 16,
   "id": "a43174b9-1b3f-48c6-8cd2-4d9298beeb07",
   "metadata": {},
   "outputs": [
    {
     "ename": "ERROR",
     "evalue": "Error in initial_split(wine, prop = 0.75, strata = quality): could not find function \"initial_split\"\n",
     "output_type": "error",
     "traceback": [
      "Error in initial_split(wine, prop = 0.75, strata = quality): could not find function \"initial_split\"\nTraceback:\n"
     ]
    }
   ],
   "source": [
    "# Pick seed 1234 for reproducible results\n",
    "set.seed(1234)\n",
    "\n",
    "# Split dataset into 75% training and 25% testing\n",
    "wine_split <- initial_split(wine, prop = 0.75, strata = quality)\n",
    "wine_train <- training(htru_split)\n",
    "wine_test <- testing(htru_split)\n",
    "\n",
    "glimpse(wine_train)\n",
    "glimpse(wine_test)"
   ]
  },
  {
   "cell_type": "markdown",
   "id": "4e6b3605-6712-449e-8299-805d5ecfdb44",
   "metadata": {},
   "source": [
    "### EDA "
   ]
  },
  {
   "cell_type": "markdown",
   "id": "6bffe9b5-b5a0-4666-a790-ecedbd15b00e",
   "metadata": {},
   "source": [
    "First, we check for missing values..."
   ]
  },
  {
   "cell_type": "code",
   "execution_count": 10,
   "id": "0cce501e-4754-4c9d-b1c4-b34ec8946929",
   "metadata": {},
   "outputs": [
    {
     "data": {
      "text/html": [
       "0"
      ],
      "text/latex": [
       "0"
      ],
      "text/markdown": [
       "0"
      ],
      "text/plain": [
       "[1] 0"
      ]
     },
     "metadata": {},
     "output_type": "display_data"
    }
   ],
   "source": [
    "sum(is.na(wine))"
   ]
  },
  {
   "cell_type": "markdown",
   "id": "ed38574b-09bb-4bcb-aa6b-b67ae416cb4d",
   "metadata": {},
   "source": [
    "... And summary statistics."
   ]
  },
  {
   "cell_type": "code",
   "execution_count": 9,
   "id": "ef4117b7-222f-4fb3-a73e-ef4bf147b212",
   "metadata": {},
   "outputs": [
    {
     "data": {
      "text/plain": [
       " fixed_acidity   volatile_acidity  citric_acid    residual_sugar  \n",
       " Min.   : 4.60   Min.   :0.1200   Min.   :0.000   Min.   : 0.900  \n",
       " 1st Qu.: 7.10   1st Qu.:0.3900   1st Qu.:0.090   1st Qu.: 1.900  \n",
       " Median : 7.90   Median :0.5200   Median :0.260   Median : 2.200  \n",
       " Mean   : 8.32   Mean   :0.5278   Mean   :0.271   Mean   : 2.539  \n",
       " 3rd Qu.: 9.20   3rd Qu.:0.6400   3rd Qu.:0.420   3rd Qu.: 2.600  \n",
       " Max.   :15.90   Max.   :1.5800   Max.   :1.000   Max.   :15.500  \n",
       "   chlorides       free_sulfur_dioxide total_sulfur_dioxide    density      \n",
       " Min.   :0.01200   Min.   : 1.00       Min.   :  6.00       Min.   :0.9901  \n",
       " 1st Qu.:0.07000   1st Qu.: 7.00       1st Qu.: 22.00       1st Qu.:0.9956  \n",
       " Median :0.07900   Median :14.00       Median : 38.00       Median :0.9968  \n",
       " Mean   :0.08747   Mean   :15.87       Mean   : 46.47       Mean   :0.9967  \n",
       " 3rd Qu.:0.09000   3rd Qu.:21.00       3rd Qu.: 62.00       3rd Qu.:0.9978  \n",
       " Max.   :0.61100   Max.   :72.00       Max.   :289.00       Max.   :1.0037  \n",
       "       pH          sulphates         alcohol      quality\n",
       " Min.   :2.740   Min.   :0.3300   Min.   : 8.40   3: 10  \n",
       " 1st Qu.:3.210   1st Qu.:0.5500   1st Qu.: 9.50   4: 53  \n",
       " Median :3.310   Median :0.6200   Median :10.20   5:681  \n",
       " Mean   :3.311   Mean   :0.6581   Mean   :10.42   6:638  \n",
       " 3rd Qu.:3.400   3rd Qu.:0.7300   3rd Qu.:11.10   7:199  \n",
       " Max.   :4.010   Max.   :2.0000   Max.   :14.90   8: 18  "
      ]
     },
     "metadata": {},
     "output_type": "display_data"
    }
   ],
   "source": [
    "summary(wine)"
   ]
  },
  {
   "cell_type": "markdown",
   "id": "71688699-ff9f-47b4-8c9c-a42fd92ee9ba",
   "metadata": {},
   "source": [
    "> *Figure 1.2. Summary statistics.*"
   ]
  },
  {
   "cell_type": "markdown",
   "id": "4cac8590-81b8-425a-a9b7-930b27479b09",
   "metadata": {},
   "source": [
    "Next, we examine the means of the independent variables for every level of our response variable \"quality\"."
   ]
  },
  {
   "cell_type": "code",
   "execution_count": 8,
   "id": "3c979cc3-fd6e-430c-a070-51067e91e488",
   "metadata": {},
   "outputs": [
    {
     "data": {
      "text/html": [
       "<table class=\"dataframe\">\n",
       "<caption>A tibble: 6 × 12</caption>\n",
       "<thead>\n",
       "\t<tr><th scope=col>quality</th><th scope=col>fixed_acidity</th><th scope=col>volatile_acidity</th><th scope=col>citric_acid</th><th scope=col>residual_sugar</th><th scope=col>chlorides</th><th scope=col>free_sulfur_dioxide</th><th scope=col>total_sulfur_dioxide</th><th scope=col>density</th><th scope=col>pH</th><th scope=col>sulphates</th><th scope=col>alcohol</th></tr>\n",
       "\t<tr><th scope=col>&lt;fct&gt;</th><th scope=col>&lt;dbl&gt;</th><th scope=col>&lt;dbl&gt;</th><th scope=col>&lt;dbl&gt;</th><th scope=col>&lt;dbl&gt;</th><th scope=col>&lt;dbl&gt;</th><th scope=col>&lt;dbl&gt;</th><th scope=col>&lt;dbl&gt;</th><th scope=col>&lt;dbl&gt;</th><th scope=col>&lt;dbl&gt;</th><th scope=col>&lt;dbl&gt;</th><th scope=col>&lt;dbl&gt;</th></tr>\n",
       "</thead>\n",
       "<tbody>\n",
       "\t<tr><td>3</td><td>8.360000</td><td>0.8845000</td><td>0.1710000</td><td>2.635000</td><td>0.12250000</td><td>11.00000</td><td>24.90000</td><td>0.9974640</td><td>3.398000</td><td>0.5700000</td><td> 9.955000</td></tr>\n",
       "\t<tr><td>4</td><td>7.779245</td><td>0.6939623</td><td>0.1741509</td><td>2.694340</td><td>0.09067925</td><td>12.26415</td><td>36.24528</td><td>0.9965425</td><td>3.381509</td><td>0.5964151</td><td>10.265094</td></tr>\n",
       "\t<tr><td>5</td><td>8.167254</td><td>0.5770411</td><td>0.2436858</td><td>2.528855</td><td>0.09273568</td><td>16.98385</td><td>56.51395</td><td>0.9971036</td><td>3.304949</td><td>0.6209692</td><td> 9.899706</td></tr>\n",
       "\t<tr><td>6</td><td>8.347179</td><td>0.4974843</td><td>0.2738245</td><td>2.477194</td><td>0.08495611</td><td>15.71160</td><td>40.86991</td><td>0.9966151</td><td>3.318072</td><td>0.6753292</td><td>10.629519</td></tr>\n",
       "\t<tr><td>7</td><td>8.872362</td><td>0.4039196</td><td>0.3751759</td><td>2.720603</td><td>0.07658794</td><td>14.04523</td><td>35.02010</td><td>0.9961043</td><td>3.290754</td><td>0.7412563</td><td>11.465913</td></tr>\n",
       "\t<tr><td>8</td><td>8.566667</td><td>0.4233333</td><td>0.3911111</td><td>2.577778</td><td>0.06844444</td><td>13.27778</td><td>33.44444</td><td>0.9952122</td><td>3.267222</td><td>0.7677778</td><td>12.094444</td></tr>\n",
       "</tbody>\n",
       "</table>\n"
      ],
      "text/latex": [
       "A tibble: 6 × 12\n",
       "\\begin{tabular}{llllllllllll}\n",
       " quality & fixed\\_acidity & volatile\\_acidity & citric\\_acid & residual\\_sugar & chlorides & free\\_sulfur\\_dioxide & total\\_sulfur\\_dioxide & density & pH & sulphates & alcohol\\\\\n",
       " <fct> & <dbl> & <dbl> & <dbl> & <dbl> & <dbl> & <dbl> & <dbl> & <dbl> & <dbl> & <dbl> & <dbl>\\\\\n",
       "\\hline\n",
       "\t 3 & 8.360000 & 0.8845000 & 0.1710000 & 2.635000 & 0.12250000 & 11.00000 & 24.90000 & 0.9974640 & 3.398000 & 0.5700000 &  9.955000\\\\\n",
       "\t 4 & 7.779245 & 0.6939623 & 0.1741509 & 2.694340 & 0.09067925 & 12.26415 & 36.24528 & 0.9965425 & 3.381509 & 0.5964151 & 10.265094\\\\\n",
       "\t 5 & 8.167254 & 0.5770411 & 0.2436858 & 2.528855 & 0.09273568 & 16.98385 & 56.51395 & 0.9971036 & 3.304949 & 0.6209692 &  9.899706\\\\\n",
       "\t 6 & 8.347179 & 0.4974843 & 0.2738245 & 2.477194 & 0.08495611 & 15.71160 & 40.86991 & 0.9966151 & 3.318072 & 0.6753292 & 10.629519\\\\\n",
       "\t 7 & 8.872362 & 0.4039196 & 0.3751759 & 2.720603 & 0.07658794 & 14.04523 & 35.02010 & 0.9961043 & 3.290754 & 0.7412563 & 11.465913\\\\\n",
       "\t 8 & 8.566667 & 0.4233333 & 0.3911111 & 2.577778 & 0.06844444 & 13.27778 & 33.44444 & 0.9952122 & 3.267222 & 0.7677778 & 12.094444\\\\\n",
       "\\end{tabular}\n"
      ],
      "text/markdown": [
       "\n",
       "A tibble: 6 × 12\n",
       "\n",
       "| quality &lt;fct&gt; | fixed_acidity &lt;dbl&gt; | volatile_acidity &lt;dbl&gt; | citric_acid &lt;dbl&gt; | residual_sugar &lt;dbl&gt; | chlorides &lt;dbl&gt; | free_sulfur_dioxide &lt;dbl&gt; | total_sulfur_dioxide &lt;dbl&gt; | density &lt;dbl&gt; | pH &lt;dbl&gt; | sulphates &lt;dbl&gt; | alcohol &lt;dbl&gt; |\n",
       "|---|---|---|---|---|---|---|---|---|---|---|---|\n",
       "| 3 | 8.360000 | 0.8845000 | 0.1710000 | 2.635000 | 0.12250000 | 11.00000 | 24.90000 | 0.9974640 | 3.398000 | 0.5700000 |  9.955000 |\n",
       "| 4 | 7.779245 | 0.6939623 | 0.1741509 | 2.694340 | 0.09067925 | 12.26415 | 36.24528 | 0.9965425 | 3.381509 | 0.5964151 | 10.265094 |\n",
       "| 5 | 8.167254 | 0.5770411 | 0.2436858 | 2.528855 | 0.09273568 | 16.98385 | 56.51395 | 0.9971036 | 3.304949 | 0.6209692 |  9.899706 |\n",
       "| 6 | 8.347179 | 0.4974843 | 0.2738245 | 2.477194 | 0.08495611 | 15.71160 | 40.86991 | 0.9966151 | 3.318072 | 0.6753292 | 10.629519 |\n",
       "| 7 | 8.872362 | 0.4039196 | 0.3751759 | 2.720603 | 0.07658794 | 14.04523 | 35.02010 | 0.9961043 | 3.290754 | 0.7412563 | 11.465913 |\n",
       "| 8 | 8.566667 | 0.4233333 | 0.3911111 | 2.577778 | 0.06844444 | 13.27778 | 33.44444 | 0.9952122 | 3.267222 | 0.7677778 | 12.094444 |\n",
       "\n"
      ],
      "text/plain": [
       "  quality fixed_acidity volatile_acidity citric_acid residual_sugar chlorides \n",
       "1 3       8.360000      0.8845000        0.1710000   2.635000       0.12250000\n",
       "2 4       7.779245      0.6939623        0.1741509   2.694340       0.09067925\n",
       "3 5       8.167254      0.5770411        0.2436858   2.528855       0.09273568\n",
       "4 6       8.347179      0.4974843        0.2738245   2.477194       0.08495611\n",
       "5 7       8.872362      0.4039196        0.3751759   2.720603       0.07658794\n",
       "6 8       8.566667      0.4233333        0.3911111   2.577778       0.06844444\n",
       "  free_sulfur_dioxide total_sulfur_dioxide density   pH       sulphates\n",
       "1 11.00000            24.90000             0.9974640 3.398000 0.5700000\n",
       "2 12.26415            36.24528             0.9965425 3.381509 0.5964151\n",
       "3 16.98385            56.51395             0.9971036 3.304949 0.6209692\n",
       "4 15.71160            40.86991             0.9966151 3.318072 0.6753292\n",
       "5 14.04523            35.02010             0.9961043 3.290754 0.7412563\n",
       "6 13.27778            33.44444             0.9952122 3.267222 0.7677778\n",
       "  alcohol  \n",
       "1  9.955000\n",
       "2 10.265094\n",
       "3  9.899706\n",
       "4 10.629519\n",
       "5 11.465913\n",
       "6 12.094444"
      ]
     },
     "metadata": {},
     "output_type": "display_data"
    }
   ],
   "source": [
    "response_means <- wine %>% \n",
    "    mutate(quality = as.factor(quality)) %>% \n",
    "    group_by(quality) %>%\n",
    "    summarise_all(mean)\n",
    "response_means"
   ]
  },
  {
   "cell_type": "markdown",
   "id": "2fd06de4-a90f-4deb-bc4b-b295b67d8dbf",
   "metadata": {},
   "source": [
    "> *Figure 1.3. Means for each level of the response variable \"quality\".*"
   ]
  },
  {
   "cell_type": "markdown",
   "id": "07eb51ed-77f2-40e6-bbc8-8befdeb48eb7",
   "metadata": {},
   "source": [
    "### EDA Visualization"
   ]
  },
  {
   "cell_type": "markdown",
   "id": "c41166ab-39c1-47d0-a625-1ca2a52dcea5",
   "metadata": {},
   "source": [
    "### Regression"
   ]
  },
  {
   "cell_type": "markdown",
   "id": "46782335-5806-4c35-9c71-54efcf7bfe20",
   "metadata": {},
   "source": [
    "### Regression Visualization"
   ]
  },
  {
   "cell_type": "markdown",
   "id": "ad30ef94-f467-4512-9a63-f2533e94a8ea",
   "metadata": {},
   "source": [
    "## Discussion"
   ]
  },
  {
   "cell_type": "markdown",
   "id": "fa81b982-3d17-4849-a689-56b65e040b43",
   "metadata": {},
   "source": [
    "### Findings"
   ]
  },
  {
   "cell_type": "markdown",
   "id": "c61a4850-e0ec-421d-ac5c-8494bf7e7f2e",
   "metadata": {},
   "source": [
    "### Impacts and Future Questions"
   ]
  },
  {
   "cell_type": "markdown",
   "id": "95395d7a-36ff-4d24-b91e-4bdb0df807dd",
   "metadata": {},
   "source": [
    "Using variable selection... stepwise? LASSO?"
   ]
  },
  {
   "cell_type": "markdown",
   "id": "861851a0-037e-46d4-993f-0a1e795d3e48",
   "metadata": {},
   "source": [
    "## References"
   ]
  },
  {
   "cell_type": "markdown",
   "id": "12310b97-d98a-4b38-9fcc-9fee5f83a306",
   "metadata": {},
   "source": [
    "[Dataset information](http://dx.doi.org/10.1016/j.dss.2009.05.016)"
   ]
  }
 ],
 "metadata": {
  "kernelspec": {
   "display_name": "R",
   "language": "R",
   "name": "ir"
  },
  "language_info": {
   "codemirror_mode": "r",
   "file_extension": ".r",
   "mimetype": "text/x-r-source",
   "name": "R",
   "pygments_lexer": "r",
   "version": "4.3.2"
  }
 },
 "nbformat": 4,
 "nbformat_minor": 5
}
