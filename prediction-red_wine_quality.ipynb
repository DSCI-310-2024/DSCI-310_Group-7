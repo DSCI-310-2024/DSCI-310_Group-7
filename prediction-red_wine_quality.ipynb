{
 "cells": [
  {
   "cell_type": "markdown",
   "id": "68dd51d9-0a5a-4e48-aa2c-d458de3ac3bb",
   "metadata": {},
   "source": [
    "# Predicting Wine Quality Using Multiple Linear Regression\n",
    "Group 7: Rui Xiang Yu, Rico Chan, & Kevin Yu  \n",
    "Course: DSCI 310, 2024 Winter Term 2"
   ]
  },
  {
   "cell_type": "markdown",
   "id": "08480982-3c5a-4b9a-af42-4763d8bdd324",
   "metadata": {},
   "source": [
    "## 1. Summary\n",
    "\n",
    "This project analyzes different properties of wine and analyzes which properties affect the quality of wine positively and which properties affect it negatively. We applied a multiple linear regression on a public-use dataset to discover how each property affects the quality of wine. Splitting the dataset into a 75/25 training/testing split, and applying a specified recipe for a multivariate regression, we obtained decent RMSE and MAE values of 0.67 and 0.52 respectively, but a mediocre R-squared value of 0.32. We discover that the fixed acidity, residual sugar, free sulphur dioxide, sulphates, and the alcohol properties tend to increase the wine quality, while the volatile acidity, citric acid, chlorides, total sulphur dioxide, density, and pH properties tend to reduce the wine quality. "
   ]
  },
  {
   "cell_type": "markdown",
   "id": "1d38ead6-eead-42e8-8479-be82f8346f9c",
   "metadata": {},
   "source": [
    "## 2. Introduction\n",
    "Wine is entrenched in many cultures and remains a strong industry worldwide (Eflman, 2017; *Culture of wine, 2020*). Technological innovations have supported the growth of the wine industry, especially in the realm of certification and quality assessment (Cortez et al., 2009). One prominent innovation is the use of laboratory testing to relate physicochemical properties of wine to human sensory perceptions (Cortez et al., 2009; Luque et al., 2023). Examples of physicochemical indicators include pH and and residual sugar. Using data to model complex wine perceptions is a daunting task, but it can benefit wine production by flagging the most important properties to consider and informing price setting (Cortez et al., 2009).\n",
    "\n",
    "Thus, our key question is: **Can we use multiple linear regression and various physicochemical indicators to predict the quality of red wine?**\n",
    "\n",
    "To answer whether a full regression model is viable, we use a dataset on red wine quality [from the UCI Machine Learning Repository](https://doi.org/10.24432/C56S3T). The dataset comprises of 12 variables (11 physicochemical indicators and 1 quality indicator) and contains 1599 instances of red vinho verde, a popular wine from Portugal. Each instance of wine was assessed by at least three sensory assessors and scored on a ten point scale that ranges from \"very bad\" to \"excellent\"; the wine quality for each instance is determined by the median of these scores (Cortez et al., 2009). The data was collected by the CVRVV, an inter-professional organisation dedicated to the promotion of vinho verde, from  May 2004 to February 2007."
   ]
  },
  {
   "cell_type": "markdown",
   "id": "345dfe11-bdd8-47e8-ba27-2f53c959cb6d",
   "metadata": {},
   "source": [
    "## 3. Methods"
   ]
  },
  {
   "cell_type": "markdown",
   "id": "33f33812-0a9f-400e-82df-6fb87a34a4a3",
   "metadata": {},
   "source": [
    "### 3.1. Loading Data\n",
    "From UCI Machine Learning Repository: <https://doi.org/10.24432/C56S3T>"
   ]
  },
  {
   "cell_type": "code",
   "execution_count": null,
   "id": "7f9548fd-7048-4191-94b8-a625cf83eace",
   "metadata": {},
   "outputs": [],
   "source": [
    "# Import packages\n",
    "library(tidyverse)\n",
    "library(tidymodels)\n",
    "library(cowplot)\n",
    "library(car)\n",
    "library(corrplot)"
   ]
  },
  {
   "cell_type": "code",
   "execution_count": null,
   "id": "018caf86-a987-49ef-a3d7-6a119fb8c729",
   "metadata": {},
   "outputs": [],
   "source": [
    "# Read CSV data.\n",
    "wine <- read_delim(\"https://archive.ics.uci.edu/ml/machine-learning-databases/wine-quality/winequality-red.csv\",\n",
    "                delim = \";\")\n",
    "\n",
    "# Adding new names as the original names contain spaces.\n",
    "new_names <- c(\"fixed_acidity\", \"volatile_acidity\", \"citric_acid\", \"residual_sugar\", \"chlorides\", \"free_sulfur_dioxide\", \n",
    "              \"total_sulfur_dioxide\", \"density\", \"pH\", \"sulphates\", \"alcohol\", \"quality\")\n",
    "colnames(wine) <- new_names\n",
    "\n",
    "# Previewing the first 6 rows.\n",
    "head(wine)"
   ]
  },
  {
   "cell_type": "markdown",
   "id": "d282edda-5565-4c2a-9901-95a85a2af1b7",
   "metadata": {},
   "source": [
    "> *Table 1. Loaded dataset of wine quality.*"
   ]
  },
  {
   "cell_type": "markdown",
   "id": "4e6b3605-6712-449e-8299-805d5ecfdb44",
   "metadata": {},
   "source": [
    "### 3.2. Exploratory Data Analysis"
   ]
  },
  {
   "cell_type": "markdown",
   "id": "c0513b36-9106-4657-8ed7-58d2c7283c5e",
   "metadata": {},
   "source": [
    "We first set a seed to ensure reproducibility. We then split the data into a training set (75% of the dataset) and a testing set (the remaining 25%). We check the number of rows for each training and testing dataset to make sure the split was done correctly. The training set will be used to train our model. The testing set will be used to validate the results of our model."
   ]
  },
  {
   "cell_type": "code",
   "execution_count": null,
   "id": "9ebbf02d-f91a-41cb-ae02-55bd43a368ce",
   "metadata": {},
   "outputs": [],
   "source": [
    "# Setting the seed.\n",
    "set.seed(7)\n",
    "\n",
    "# Splitting the data.\n",
    "wine_split <- initial_split(wine, prop = 0.75, strata = quality)\n",
    "wine_train <- training(wine_split)\n",
    "wine_test <- testing(wine_split)\n",
    "\n",
    "nrow(wine_train)\n",
    "nrow(wine_test)"
   ]
  },
  {
   "cell_type": "markdown",
   "id": "e4d5c592-c998-4214-97c5-023823631e77",
   "metadata": {},
   "source": [
    "As we can see, the split was done appropriately. We can now move on to see if there are any missing values in our entire dataset:"
   ]
  },
  {
   "cell_type": "code",
   "execution_count": null,
   "id": "0cce501e-4754-4c9d-b1c4-b34ec8946929",
   "metadata": {},
   "outputs": [],
   "source": [
    "sum(is.na(wine))"
   ]
  },
  {
   "cell_type": "markdown",
   "id": "ed38574b-09bb-4bcb-aa6b-b67ae416cb4d",
   "metadata": {},
   "source": [
    "... And summary statistics."
   ]
  },
  {
   "cell_type": "code",
   "execution_count": null,
   "id": "ef4117b7-222f-4fb3-a73e-ef4bf147b212",
   "metadata": {},
   "outputs": [],
   "source": [
    "# Summary Statistics\n",
    "summary(wine_train)"
   ]
  },
  {
   "cell_type": "markdown",
   "id": "71688699-ff9f-47b4-8c9c-a42fd92ee9ba",
   "metadata": {},
   "source": [
    "> *Figure 1. Summary statistics of wine dataset.*"
   ]
  },
  {
   "cell_type": "markdown",
   "id": "4cac8590-81b8-425a-a9b7-930b27479b09",
   "metadata": {},
   "source": [
    "Next, we examine the means of the independent variables for every level of our response variable \"quality\"."
   ]
  },
  {
   "cell_type": "code",
   "execution_count": null,
   "id": "3c979cc3-fd6e-430c-a070-51067e91e488",
   "metadata": {},
   "outputs": [],
   "source": [
    "# Means for each level of response variable \"quality\"\n",
    "response_means <- wine_train %>%\n",
    "mutate(quality = as.factor(quality)) %>%\n",
    "group_by(quality) %>%\n",
    "summarise_all(mean)\n",
    "\n",
    "response_means"
   ]
  },
  {
   "cell_type": "markdown",
   "id": "2fd06de4-a90f-4deb-bc4b-b295b67d8dbf",
   "metadata": {},
   "source": [
    "> *Table 2. Means for each level of the response variable \"quality\".*"
   ]
  },
  {
   "cell_type": "markdown",
   "id": "07eb51ed-77f2-40e6-bbc8-8befdeb48eb7",
   "metadata": {},
   "source": [
    "### 3.3. Exploratory Data Analysis Visualization\n",
    "\n"
   ]
  },
  {
   "cell_type": "markdown",
   "id": "3a7c55df-8826-417d-bb96-4a9c7a7182f3",
   "metadata": {},
   "source": [
    "Before we begin on the analysis, we wanted to visualize our dataset to get a general understanding of our data and check for valid assumptions and potential issues we have to alleviate later on."
   ]
  },
  {
   "cell_type": "code",
   "execution_count": null,
   "id": "1c3e452c-0ea6-4cac-98ca-c9859a3b4afd",
   "metadata": {},
   "outputs": [],
   "source": [
    "wine_train_categorical <- wine_train %>%\n",
    "    mutate(quality = as.factor(quality))"
   ]
  },
  {
   "cell_type": "code",
   "execution_count": null,
   "id": "989d3b9f-97cf-4ee9-99da-443a1dc52af9",
   "metadata": {},
   "outputs": [],
   "source": [
    "font_size = 50\n",
    "\n",
    "options(repr.plot.width = 60, repr.plot.height = 30)\n",
    "\n",
    "fixed_acidity_hist <- wine_train_categorical %>%\n",
    "    ggplot(aes(x = fixed_acidity)) +\n",
    "    geom_histogram(aes(color = quality, fill = quality)) + \n",
    "    theme(text = element_text(size=font_size),\n",
    "         legend.position=\"none\")\n",
    "\n",
    "volatile_acidity_hist <- wine_train_categorical %>%\n",
    "    ggplot(aes(x = volatile_acidity)) +\n",
    "    geom_histogram(aes(color = quality, fill = quality)) + \n",
    "    theme(text = element_text(size=font_size),\n",
    "         legend.position=\"none\",\n",
    "         axis.title.y = element_blank())\n",
    "\n",
    "citric_acid_hist <- wine_train_categorical %>%\n",
    "    ggplot(aes(x = citric_acid)) +\n",
    "    geom_histogram(aes(color = quality, fill = quality)) + \n",
    "    theme(text = element_text(size=font_size),\n",
    "         legend.position=\"none\",\n",
    "         axis.title.y = element_blank())\n",
    "\n",
    "residual_sugar_hist <- wine_train_categorical %>%\n",
    "    ggplot(aes(x = residual_sugar)) +\n",
    "    geom_histogram(aes(color = quality, fill = quality)) + \n",
    "    theme(text = element_text(size=font_size),\n",
    "         legend.position=\"none\",\n",
    "         axis.title.y = element_blank())\n",
    "\n",
    "chlorides_hist <- wine_train_categorical %>%\n",
    "    ggplot(aes(x = chlorides)) +\n",
    "    geom_histogram(aes(color = quality, fill = quality)) + \n",
    "    theme(text = element_text(size=font_size),\n",
    "         legend.position=\"none\")\n",
    "\n",
    "free_sulfur_dioxide_hist <- wine_train_categorical %>%\n",
    "    ggplot(aes(x = free_sulfur_dioxide)) +\n",
    "    geom_histogram(aes(color = quality, fill = quality)) + \n",
    "    theme(text = element_text(size=font_size),\n",
    "         legend.position=\"none\",\n",
    "         axis.title.y = element_blank())\n",
    "\n",
    "total_sulfur_dioxide_hist <- wine_train_categorical %>%\n",
    "    ggplot(aes(x = total_sulfur_dioxide)) +\n",
    "    geom_histogram(aes(color = quality, fill = quality)) + \n",
    "    theme(text = element_text(size=font_size),\n",
    "         legend.position=\"none\",\n",
    "         axis.title.y = element_blank())\n",
    "\n",
    "density_hist <- wine_train_categorical %>%\n",
    "    ggplot(aes(x = density)) +\n",
    "    geom_histogram(aes(color = quality, fill = quality)) + \n",
    "    theme(text = element_text(size=font_size),\n",
    "         legend.position=\"none\",\n",
    "         axis.title.y = element_blank())\n",
    "\n",
    "pH_hist <- wine_train_categorical %>%\n",
    "    ggplot(aes(x = pH)) +\n",
    "    geom_histogram(aes(color = quality, fill = quality)) + \n",
    "    theme(text = element_text(size=font_size),\n",
    "         legend.position=\"none\")\n",
    "\n",
    "sulphates_hist <- wine_train_categorical %>%\n",
    "    ggplot(aes(x = sulphates)) +\n",
    "    geom_histogram(aes(color = quality, fill = quality)) + \n",
    "    theme(text = element_text(size=font_size),\n",
    "         legend.position=\"none\",\n",
    "         axis.title.y = element_blank())\n",
    "\n",
    "alcohol_hist <- wine_train_categorical %>%\n",
    "    ggplot(aes(x = alcohol)) +\n",
    "    geom_histogram(aes(color = quality, fill = quality)) + \n",
    "    theme(text = element_text(size=font_size),\n",
    "         legend.position=\"none\",\n",
    "         axis.title.y = element_blank())\n",
    "\n",
    "quality_hist <- wine_train %>%\n",
    "    ggplot(aes(x = quality)) +\n",
    "    geom_histogram(aes(fill = as.factor(quality))) + \n",
    "    theme(text = element_text(size=font_size),\n",
    "         axis.title.y = element_blank()) +\n",
    "    labs(fill = \"quality\")\n",
    "\n",
    "hists <- plot_grid(fixed_acidity_hist, volatile_acidity_hist, citric_acid_hist, residual_sugar_hist, \n",
    "                   chlorides_hist, free_sulfur_dioxide_hist, total_sulfur_dioxide_hist, density_hist, \n",
    "                   pH_hist, sulphates_hist, alcohol_hist, quality_hist + theme(legend.position=\"none\"),\n",
    "             ncol=4, nrow =3)\n",
    "\n",
    "title_hist <- ggdraw() +\n",
    "    draw_label(\n",
    "        \"Figure 2. Histogram of the input variables, color-coded by their respective quality. In the last plot, histogram of each wine quality.\",\n",
    "        fontface = 'bold', x = 0, hjust = 0, size = font_size + 20) +\n",
    "    theme(plot.margin = margin(0, 0, 0, 7)) # alignment\n",
    "          \n",
    "legend_hist <- get_legend(quality_hist + theme(legend.box.margin = margin(0, 0, 0, 12),\n",
    "                                         legend.key.size = unit(3, 'cm'),\n",
    "                                         legend.title = element_text(size = font_size)))\n",
    "\n",
    "plot_grid(\n",
    "    plot_grid(title_hist, hists, ncol = 1, rel_heights = c(0.1, 1)),\n",
    "    legend_hist,\n",
    "    rel_widths = c(4, .4)\n",
    ")"
   ]
  },
  {
   "cell_type": "markdown",
   "id": "c4eba8b7-d6b0-4333-b7c2-454735104f5b",
   "metadata": {},
   "source": [
    "Each of the qualities we are analyzing are plotted together in a histogram to get an understanding of several assumptions we are making. For some of them, (such as density, pH, volatile_acidity, etc), a normality assumption is reasonable. For others, (such as citric_acid, total_sulfur_dioxide, etc) it may be a bit harder to assume normality. Each of the different qualities are also coloured in, so the different densities among the quality levels can be visualized.  \n",
    "\n",
    "The very last plot is a visual for the count of how many wines are in each quality level. Unfortunately, there does not appear to be a consistent count for each quality level, rather that most of the wines in the dataset have qualities between 5 and 7. "
   ]
  },
  {
   "cell_type": "code",
   "execution_count": null,
   "id": "e6f0c1fa-d8e7-46e6-a00a-d41bff656e63",
   "metadata": {},
   "outputs": [],
   "source": [
    "options(repr.plot.width = 60, repr.plot.height = 30)\n",
    "\n",
    "point_size = 4\n",
    "\n",
    "fixed_acidity_plot <- wine_train %>%\n",
    "    ggplot(aes(x = quality, y = fixed_acidity)) +\n",
    "    geom_point(size=point_size, aes(color = as.factor(quality), fill = as.factor(quality))) +\n",
    "    theme(text = element_text(size=font_size), axis.title.x = element_blank(), legend.position = \"none\")\n",
    "\n",
    "volatile_acidity_plot <- wine_train %>%\n",
    "    ggplot(aes(x = quality, y = volatile_acidity)) +\n",
    "    geom_point(size=point_size, aes(color = as.factor(quality), fill = as.factor(quality))) +\n",
    "    theme(text = element_text(size=font_size), axis.title.x = element_blank(), legend.position = \"none\")\n",
    "\n",
    "citric_acid_plot <- wine_train %>%\n",
    "    ggplot(aes(x = quality, y = citric_acid)) +\n",
    "    geom_point(size=point_size, aes(color = as.factor(quality), fill = as.factor(quality))) +\n",
    "    theme(text = element_text(size=font_size), axis.title.x = element_blank(), legend.position = \"none\")\n",
    "\n",
    "residual_sugar_plot <- wine_train %>%\n",
    "    ggplot(aes(x = quality, y = residual_sugar)) +\n",
    "    geom_point(size=point_size, aes(color = as.factor(quality), fill = as.factor(quality))) +\n",
    "    theme(text = element_text(size=font_size), axis.title.x = element_blank(), legend.position = \"none\")\n",
    "\n",
    "chlorides_plot <- wine_train %>%\n",
    "    ggplot(aes(x = quality, y = chlorides)) +\n",
    "    geom_point(size=point_size, aes(color = as.factor(quality), fill = as.factor(quality))) +\n",
    "    theme(text = element_text(size=font_size), axis.title.x = element_blank(), legend.position = \"none\")\n",
    "\n",
    "free_sulfur_dioxide_plot <- wine_train %>%\n",
    "    ggplot(aes(x = quality, y = free_sulfur_dioxide)) +\n",
    "    geom_point(size=point_size, aes(color = as.factor(quality), fill = as.factor(quality))) +\n",
    "    theme(text = element_text(size=font_size), axis.title.x = element_blank(), legend.position = \"none\")\n",
    "\n",
    "total_sulfur_dioxide_plot <- wine_train %>%\n",
    "    ggplot(aes(x = quality, y = total_sulfur_dioxide)) +\n",
    "    geom_point(size=point_size, aes(color = as.factor(quality), fill = as.factor(quality))) +\n",
    "    theme(text = element_text(size=font_size), axis.title.x = element_blank(), legend.position = \"none\")\n",
    "\n",
    "density_plot <- wine_train %>%\n",
    "    ggplot(aes(x = quality, y = density)) +\n",
    "    geom_point(size=point_size, aes(color = as.factor(quality), fill = as.factor(quality))) +\n",
    "    theme(text = element_text(size=font_size), axis.title.x = element_blank(), legend.position = \"none\")\n",
    "\n",
    "pH_plot <- wine_train %>%\n",
    "    ggplot(aes(x = quality, y = pH)) +\n",
    "    geom_point(size=point_size, aes(color = as.factor(quality), fill = as.factor(quality))) +\n",
    "    theme(text = element_text(size=font_size), axis.title.x = element_blank(), legend.position = \"none\")\n",
    "\n",
    "sulphates_plot <- wine_train %>%\n",
    "    ggplot(aes(x = quality, y = sulphates)) +\n",
    "    geom_point(size=point_size, aes(color = as.factor(quality), fill = as.factor(quality))) +\n",
    "    theme(text = element_text(size=font_size), axis.title.x = element_blank(), legend.position = \"none\")\n",
    "\n",
    "alcohol_plot <- wine_train %>%\n",
    "    ggplot(aes(x = quality, y = alcohol)) +\n",
    "    geom_point(size=point_size, aes(color = as.factor(quality), fill = as.factor(quality))) +\n",
    "    theme(text = element_text(size=font_size), axis.title.x = element_blank(), legend.position = \"none\")\n",
    "\n",
    "\n",
    "plots <- plot_grid(fixed_acidity_plot, volatile_acidity_plot, citric_acid_plot, residual_sugar_plot, \n",
    "                   chlorides_plot, free_sulfur_dioxide_plot, total_sulfur_dioxide_plot, density_plot, \n",
    "                   pH_plot, sulphates_plot, alcohol_plot,\n",
    "                   ncol=4, nrow =3)\n",
    "\n",
    "title_plots <- ggdraw() +\n",
    "    draw_label(\n",
    "        \"Figure x. Scatterplot of the quality and the input variables, color-coded by their respective qualities.\",\n",
    "        fontface = 'bold', x = 0, hjust = 0, size = font_size + 20) +\n",
    "    theme(plot.margin = margin(0, 0, 0, 7)) # alignment\n",
    "\n",
    "plot_grid(title_plots, plots, ncol = 1, rel_heights = c(0.1, 1))\n"
   ]
  },
  {
   "cell_type": "markdown",
   "id": "dfb7bc4c-bd2a-47e6-83f2-57ef84798dd8",
   "metadata": {},
   "source": [
    "Plotting each of the predictors on the y-axis against the wine qualities do suggest a possible linear trend in several. Especially alcohol, volatile_acidity, and density all appear to show possible linear trends. Most of them have a histogram-like shape, like the two sulfur dioxides. "
   ]
  },
  {
   "cell_type": "code",
   "execution_count": null,
   "id": "3f28883b-b2fc-4176-8c33-fdee4d2ca8be",
   "metadata": {},
   "outputs": [],
   "source": [
    "options(repr.plot.width = 10, repr.plot.height = 10)\n",
    "\n",
    "wine_cors <- cor(wine_train)\n",
    "\n",
    "corr_plot <- corrplot(wine_cors, method = 'number',\n",
    "                     title = \"Figure x. Correlation Matrix of all Input Variables\",\n",
    "                     mar=c(0,0,3,0))"
   ]
  },
  {
   "cell_type": "markdown",
   "id": "922d5ee9-459d-430b-ac64-876ccea0116d",
   "metadata": {},
   "source": [
    "The correlation matrix suggests that the values all tend to be more independent than each other than some others. For quality, the values that are the most correlated appear to be volatile_acidity and the alcohol content. This suggests that those may be the best predictors, and the others may be a bit weaker."
   ]
  },
  {
   "cell_type": "markdown",
   "id": "c41166ab-39c1-47d0-a625-1ca2a52dcea5",
   "metadata": {},
   "source": [
    "### 3.4. Multiple Linear Regression Analysis"
   ]
  },
  {
   "cell_type": "markdown",
   "id": "c39756b8-64a9-48ca-9762-393a11d99095",
   "metadata": {},
   "source": [
    "We first specify a linear regression model and then a recipe. In the recipe, we state \"quality\" as our response variable, and the other 11 variables as input variables. We then set up the workflow and train the model using our training set."
   ]
  },
  {
   "cell_type": "code",
   "execution_count": null,
   "id": "adfc66f0-db32-4b0d-b2b3-bdef40ae8ccf",
   "metadata": {},
   "outputs": [],
   "source": [
    "# Specifying a linear regression model.\n",
    "lm_spec <- linear_reg() %>%\n",
    "  set_engine(\"lm\") %>%\n",
    "  set_mode(\"regression\")\n",
    "\n",
    "# Setting up the recipe.\n",
    "wine_lm_recipe <- recipe(quality ~ ., data = wine_train)\n",
    "\n",
    "# Training the model.\n",
    "wine_lm_fit <- workflow() %>%\n",
    "  add_recipe(wine_lm_recipe) %>%\n",
    "  add_model(lm_spec) %>%\n",
    "  fit(data = wine_train)\n",
    "\n",
    "wine_lm_fit"
   ]
  },
  {
   "cell_type": "markdown",
   "id": "baacf6cd-2643-4bb7-9be4-ae1909340649",
   "metadata": {},
   "source": [
    ">*Figure 3. Linear regression workflow summary.*"
   ]
  },
  {
   "cell_type": "markdown",
   "id": "8e9b5a99-9688-4980-b9a8-a26c916bc2d4",
   "metadata": {},
   "source": [
    "Let's take a closer look at the obtained coefficients:"
   ]
  },
  {
   "cell_type": "code",
   "execution_count": null,
   "id": "eb0f08c3-5161-422c-b61a-60c42c26b314",
   "metadata": {},
   "outputs": [],
   "source": [
    "# Pulling information of the coefficients in a tibble.\n",
    "wine_coeffs <- wine_lm_fit %>%\n",
    "               extract_fit_parsnip() %>%\n",
    "               tidy()\n",
    "\n",
    "wine_coeffs"
   ]
  },
  {
   "cell_type": "markdown",
   "id": "023bab7e-3751-4e55-a9bc-65b0aab69b75",
   "metadata": {},
   "source": [
    "> *Table 3. Summary of the coefficients from the linear regression with their respective standard error, statistic, and p-value.*"
   ]
  },
  {
   "cell_type": "markdown",
   "id": "4ea2a747-25a5-44db-85af-b47172df2a83",
   "metadata": {},
   "source": [
    "Most of our input variables are statistically significant, as their p-values are < 0.05. However, a couple have p-values that are > 0.05, and thus, are not statistically significant. \n",
    "- Significant: fixed acidity, sulphates, alcohol, volatile acidity, chlorides, total sulfur dioxide, and density.\n",
    "- Non-significant: residual sugar, citric acid, free sulfur dioxide, and pH.\n",
    "\n",
    "The full equation of our linear regression model is (rounded to the nearest 3 decimals):  \n",
    "\n",
    "quality = 56.828 + 0.067 x fixed_acidity - 1.063 x volatile_acidity - 0.312 x citric_acid + 0.027 x residual_sugar - 1.934 x chlorides + 0.003 x free_sulfur_dioxide - 0.002 x total_sulfur_dioxide - 53.300 x density - 0.341 x pH - 0.881 x sulphates + 0.261 x alcohol  \n",
    "\n",
    "We can also determine the correlation between the input variables and the response variable quality:\n",
    "- Positively correlated: fixed acidity, residual sugar, free sulfur dioxide, sulphates, and alcohol.\n",
    "- Negatively correlated: volatile acidity, citric acid, chlorides, total sulfur dioxide, density, and pH.\n",
    "\n",
    "We then test our model on the testing set:"
   ]
  },
  {
   "cell_type": "code",
   "execution_count": null,
   "id": "52294667-1d70-45cf-bbb9-abe74bda6b25",
   "metadata": {},
   "outputs": [],
   "source": [
    "# Finding the RMSPE, R^2, and MAE.\n",
    "\n",
    "wine_lm_test_results <- wine_lm_fit %>%\n",
    "  predict(wine_test) %>%\n",
    "  bind_cols(wine_test) %>%\n",
    "  metrics(truth = quality, estimate = .pred)\n",
    "\n",
    "wine_lm_test_results"
   ]
  },
  {
   "cell_type": "markdown",
   "id": "5a9689ca-ff53-4aa7-aa68-b5a3f23dba04",
   "metadata": {},
   "source": [
    "> *Table 4. Estimates of the model's performance on the testing set.*"
   ]
  },
  {
   "cell_type": "markdown",
   "id": "79865c80-666b-40b3-a7f3-ac378b7ff12b",
   "metadata": {},
   "source": [
    "Our RMSPE is 0.67 units of quality, which we deem to be a low value. Our mean absolute error is 0.52 units of quality, which we also deem to be a low value. Thus, we believe our model performs relatively well. However, our R^2 is 0.32 which is a low number, indicating that our model does not fit the data as well as hoped."
   ]
  },
  {
   "cell_type": "markdown",
   "id": "46782335-5806-4c35-9c71-54efcf7bfe20",
   "metadata": {},
   "source": [
    "### 3.5. Multiple Linear Regression Visualization"
   ]
  },
  {
   "cell_type": "code",
   "execution_count": null,
   "id": "55f595ad-d049-444b-9d10-cee0ee18fbb5",
   "metadata": {},
   "outputs": [],
   "source": [
    "options(repr.plot.width = 10, repr.plot.height = 8)\n",
    "\n",
    "wine_lm_test_preds <- wine_lm_fit %>%\n",
    "  predict(wine_test) %>%\n",
    "  bind_cols(wine_test) %>%\n",
    "  mutate(resid = quality - .pred)\n",
    "\n",
    "qqPlot(wine_lm_test_preds$resid)"
   ]
  },
  {
   "cell_type": "markdown",
   "id": "be8de11c-9ef3-4ea7-9177-7b3622a341f0",
   "metadata": {},
   "source": [
    "> *Figure 4. Quantile-quantile plot of the model's errors.*"
   ]
  },
  {
   "cell_type": "markdown",
   "id": "6ec04bbf-da2d-4b99-96ee-83460ac398f7",
   "metadata": {},
   "source": [
    "Plotting a quantile-quantile plot for the errors, it appears good. There does appear to be a dip from the line near quantiles = 0, and there appears to be a few outliers, but overall the normality assumption on our data is reasonable."
   ]
  },
  {
   "cell_type": "markdown",
   "id": "ad30ef94-f467-4512-9a63-f2533e94a8ea",
   "metadata": {},
   "source": [
    "## 4. Discussion"
   ]
  },
  {
   "cell_type": "markdown",
   "id": "fa81b982-3d17-4849-a689-56b65e040b43",
   "metadata": {},
   "source": [
    "### 4.1. Summary and Expectations"
   ]
  },
  {
   "cell_type": "markdown",
   "id": "c61a4850-e0ec-421d-ac5c-8494bf7e7f2e",
   "metadata": {},
   "source": [
    "### 4.2. Impacts and Future Questions"
   ]
  },
  {
   "cell_type": "markdown",
   "id": "95395d7a-36ff-4d24-b91e-4bdb0df807dd",
   "metadata": {},
   "source": [
    "The multivariate regression analysis conducted on the wine quality dataset aimed to uncover the impacts of various factors such as the alcohol content, the acidity, and the amount of sugar on the overall quality of wine. While the accuracy of our model is a bit mediocre at best, it is still a valuable analysis that can uncover proposals of changing winemaking practices and consumer preferences.\n",
    "\n",
    "Future research should attempt to improve the accuracy of our model, such as incorporating better model selection techniques such as stepwise regression, or to restrict the coefficients through LASSO or Ridge regression. Alternate strategies could be to adapt a non-parametric (i.e. classification) analysis rather than a regression analysis on the data. More data could also be collected to further the amount of predictors and the amount of data there are. For those who are in the winemaking business, this should propose implications on alternate winemaking techniques to better increase the quality of the wine that is being manufactured, and may ask why some qualities negatively affect the quality of the wine and why others positively affect the quality."
   ]
  },
  {
   "cell_type": "markdown",
   "id": "861851a0-037e-46d4-993f-0a1e795d3e48",
   "metadata": {},
   "source": [
    "## 5. References"
   ]
  },
  {
   "cell_type": "markdown",
   "id": "8e3923ab-54af-406f-adbb-a07277fa7872",
   "metadata": {},
   "source": [
    "<div class=\"csl-bib-body\" style=\"line-height: 2; margin-left: 2em; text-indent:-2em;\">\n",
    "  <div class=\"csl-entry\">Cortez, P., Cerdeira, A., Almeida, F., Matos, T., &amp; Reis, J. (2009). Modeling wine preferences by data mining from physicochemical properties. <i>Decision Support Systems</i>, <i>47</i>(4), 547–553. https://doi.org/10.1016/j.dss.2009.05.016</div>\n",
    "  <div class=\"csl-entry\"><i>Culture of wine</i>. (n.d.). Retrieved 29 February 2024, from https://www.wineinmoderation.eu/culture</div>\n",
    "  <div class=\"csl-entry\">Elfman, Z. (2017, January 6). <i>Libation frontiers – a deep dive into the world wine industry | toptal®</i>. Toptal Finance Blog. https://www.toptal.com/finance/market-sizing/wine-industry</div>\n",
    "  <div class=\"csl-entry\">Luque, A., Mazzoleni, M., Zamora-Polo, F., Ferramosca, A., Lama, J. R., &amp; Previdi, F. (2023). Determining the importance of physicochemical properties in the perceived quality of wines. <i>IEEE Access</i>, <i>11</i>, 115430–115449. https://doi.org/10.1109/ACCESS.2023.3325676</div>\n",
    "</div>"
   ]
  }
 ],
 "metadata": {
  "kernelspec": {
   "display_name": "R",
   "language": "R",
   "name": "ir"
  },
  "language_info": {
   "codemirror_mode": "r",
   "file_extension": ".r",
   "mimetype": "text/x-r-source",
   "name": "R",
   "pygments_lexer": "r",
   "version": "4.2.2"
  }
 },
 "nbformat": 4,
 "nbformat_minor": 5
}
