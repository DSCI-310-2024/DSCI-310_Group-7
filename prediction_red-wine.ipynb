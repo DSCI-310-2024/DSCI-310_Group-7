{
 "cells": [
  {
   "cell_type": "markdown",
   "id": "68dd51d9-0a5a-4e48-aa2c-d458de3ac3bb",
   "metadata": {},
   "source": [
    "# Predicting Wine Quality Using Linear Regression"
   ]
  },
  {
   "cell_type": "markdown",
   "id": "08480982-3c5a-4b9a-af42-4763d8bdd324",
   "metadata": {},
   "source": [
    "## Summary"
   ]
  },
  {
   "cell_type": "markdown",
   "id": "1d38ead6-eead-42e8-8479-be82f8346f9c",
   "metadata": {},
   "source": [
    "## Introduction"
   ]
  },
  {
   "cell_type": "markdown",
   "id": "345dfe11-bdd8-47e8-ba27-2f53c959cb6d",
   "metadata": {},
   "source": [
    "## Methods"
   ]
  },
  {
   "cell_type": "markdown",
   "id": "33f33812-0a9f-400e-82df-6fb87a34a4a3",
   "metadata": {},
   "source": [
    "### Loading Data"
   ]
  },
  {
   "cell_type": "markdown",
   "id": "4e6b3605-6712-449e-8299-805d5ecfdb44",
   "metadata": {},
   "source": [
    "### EDA "
   ]
  },
  {
   "cell_type": "markdown",
   "id": "07eb51ed-77f2-40e6-bbc8-8befdeb48eb7",
   "metadata": {},
   "source": [
    "### EDA Visualization"
   ]
  },
  {
   "cell_type": "markdown",
   "id": "c41166ab-39c1-47d0-a625-1ca2a52dcea5",
   "metadata": {},
   "source": [
    "### Regression"
   ]
  },
  {
   "cell_type": "markdown",
   "id": "46782335-5806-4c35-9c71-54efcf7bfe20",
   "metadata": {},
   "source": [
    "### Regression Visualization"
   ]
  },
  {
   "cell_type": "markdown",
   "id": "ad30ef94-f467-4512-9a63-f2533e94a8ea",
   "metadata": {},
   "source": [
    "## Discussion"
   ]
  },
  {
   "cell_type": "markdown",
   "id": "fa81b982-3d17-4849-a689-56b65e040b43",
   "metadata": {},
   "source": [
    "### Findings"
   ]
  },
  {
   "cell_type": "markdown",
   "id": "c61a4850-e0ec-421d-ac5c-8494bf7e7f2e",
   "metadata": {},
   "source": [
    "### Impacts and Future Questions"
   ]
  },
  {
   "cell_type": "markdown",
   "id": "861851a0-037e-46d4-993f-0a1e795d3e48",
   "metadata": {},
   "source": [
    "## References"
   ]
  }
 ],
 "metadata": {
  "kernelspec": {
   "display_name": "R",
   "language": "R",
   "name": "ir"
  },
  "language_info": {
   "codemirror_mode": "r",
   "file_extension": ".r",
   "mimetype": "text/x-r-source",
   "name": "R",
   "pygments_lexer": "r",
   "version": "4.3.2"
  }
 },
 "nbformat": 4,
 "nbformat_minor": 5
}
